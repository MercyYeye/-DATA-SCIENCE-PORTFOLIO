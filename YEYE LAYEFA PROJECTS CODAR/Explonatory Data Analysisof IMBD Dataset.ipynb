{
 "cells": [
  {
   "cell_type": "markdown",
   "id": "e56b8c08",
   "metadata": {},
   "source": [
    "## Exploratory Data Analysis of IMBD Dataset\n",
    "\n",
    "\n",
    "\n",
    "## Import Libraries"
   ]
  },
  {
   "cell_type": "code",
   "execution_count": 3,
   "id": "31716020",
   "metadata": {},
   "outputs": [],
   "source": [
    "import numpy as np\n",
    "import pandas as pd \n",
    "import matplotlib.pyplot as plt\n",
    "import seaborn as sns\n",
    "\n",
    "import warnings\n",
    "warnings.filterwarnings(\"ignore\")\n"
   ]
  },
  {
   "cell_type": "markdown",
   "id": "5d671f4a",
   "metadata": {},
   "source": [
    "### import Dataset"
   ]
  },
  {
   "cell_type": "code",
   "execution_count": 4,
   "id": "77503693",
   "metadata": {},
   "outputs": [
    {
     "data": {
      "text/html": [
       "<div>\n",
       "<style scoped>\n",
       "    .dataframe tbody tr th:only-of-type {\n",
       "        vertical-align: middle;\n",
       "    }\n",
       "\n",
       "    .dataframe tbody tr th {\n",
       "        vertical-align: top;\n",
       "    }\n",
       "\n",
       "    .dataframe thead th {\n",
       "        text-align: right;\n",
       "    }\n",
       "</style>\n",
       "<table border=\"1\" class=\"dataframe\">\n",
       "  <thead>\n",
       "    <tr style=\"text-align: right;\">\n",
       "      <th></th>\n",
       "      <th>Rank</th>\n",
       "      <th>Title</th>\n",
       "      <th>Genre</th>\n",
       "      <th>Description</th>\n",
       "      <th>Director</th>\n",
       "      <th>Actors</th>\n",
       "      <th>Year</th>\n",
       "      <th>Runtime (Minutes)</th>\n",
       "      <th>Rating</th>\n",
       "      <th>Votes</th>\n",
       "      <th>Revenue (Millions)</th>\n",
       "      <th>Metascore</th>\n",
       "    </tr>\n",
       "  </thead>\n",
       "  <tbody>\n",
       "    <tr>\n",
       "      <th>0</th>\n",
       "      <td>1</td>\n",
       "      <td>Guardians of the Galaxy</td>\n",
       "      <td>Action,Adventure,Sci-Fi</td>\n",
       "      <td>A group of intergalactic criminals are forced ...</td>\n",
       "      <td>James Gunn</td>\n",
       "      <td>Chris Pratt, Vin Diesel, Bradley Cooper, Zoe S...</td>\n",
       "      <td>2014</td>\n",
       "      <td>121</td>\n",
       "      <td>8.1</td>\n",
       "      <td>757074</td>\n",
       "      <td>333.13</td>\n",
       "      <td>76.0</td>\n",
       "    </tr>\n",
       "    <tr>\n",
       "      <th>1</th>\n",
       "      <td>2</td>\n",
       "      <td>Prometheus</td>\n",
       "      <td>Adventure,Mystery,Sci-Fi</td>\n",
       "      <td>Following clues to the origin of mankind, a te...</td>\n",
       "      <td>Ridley Scott</td>\n",
       "      <td>Noomi Rapace, Logan Marshall-Green, Michael Fa...</td>\n",
       "      <td>2012</td>\n",
       "      <td>124</td>\n",
       "      <td>7.0</td>\n",
       "      <td>485820</td>\n",
       "      <td>126.46</td>\n",
       "      <td>65.0</td>\n",
       "    </tr>\n",
       "    <tr>\n",
       "      <th>2</th>\n",
       "      <td>3</td>\n",
       "      <td>Split</td>\n",
       "      <td>Horror,Thriller</td>\n",
       "      <td>Three girls are kidnapped by a man with a diag...</td>\n",
       "      <td>M. Night Shyamalan</td>\n",
       "      <td>James McAvoy, Anya Taylor-Joy, Haley Lu Richar...</td>\n",
       "      <td>2016</td>\n",
       "      <td>117</td>\n",
       "      <td>7.3</td>\n",
       "      <td>157606</td>\n",
       "      <td>138.12</td>\n",
       "      <td>62.0</td>\n",
       "    </tr>\n",
       "    <tr>\n",
       "      <th>3</th>\n",
       "      <td>4</td>\n",
       "      <td>Sing</td>\n",
       "      <td>Animation,Comedy,Family</td>\n",
       "      <td>In a city of humanoid animals, a hustling thea...</td>\n",
       "      <td>Christophe Lourdelet</td>\n",
       "      <td>Matthew McConaughey,Reese Witherspoon, Seth Ma...</td>\n",
       "      <td>2016</td>\n",
       "      <td>108</td>\n",
       "      <td>7.2</td>\n",
       "      <td>60545</td>\n",
       "      <td>270.32</td>\n",
       "      <td>59.0</td>\n",
       "    </tr>\n",
       "    <tr>\n",
       "      <th>4</th>\n",
       "      <td>5</td>\n",
       "      <td>Suicide Squad</td>\n",
       "      <td>Action,Adventure,Fantasy</td>\n",
       "      <td>A secret government agency recruits some of th...</td>\n",
       "      <td>David Ayer</td>\n",
       "      <td>Will Smith, Jared Leto, Margot Robbie, Viola D...</td>\n",
       "      <td>2016</td>\n",
       "      <td>123</td>\n",
       "      <td>6.2</td>\n",
       "      <td>393727</td>\n",
       "      <td>325.02</td>\n",
       "      <td>40.0</td>\n",
       "    </tr>\n",
       "  </tbody>\n",
       "</table>\n",
       "</div>"
      ],
      "text/plain": [
       "   Rank                    Title                     Genre  \\\n",
       "0     1  Guardians of the Galaxy   Action,Adventure,Sci-Fi   \n",
       "1     2               Prometheus  Adventure,Mystery,Sci-Fi   \n",
       "2     3                    Split           Horror,Thriller   \n",
       "3     4                     Sing   Animation,Comedy,Family   \n",
       "4     5            Suicide Squad  Action,Adventure,Fantasy   \n",
       "\n",
       "                                         Description              Director  \\\n",
       "0  A group of intergalactic criminals are forced ...            James Gunn   \n",
       "1  Following clues to the origin of mankind, a te...          Ridley Scott   \n",
       "2  Three girls are kidnapped by a man with a diag...    M. Night Shyamalan   \n",
       "3  In a city of humanoid animals, a hustling thea...  Christophe Lourdelet   \n",
       "4  A secret government agency recruits some of th...            David Ayer   \n",
       "\n",
       "                                              Actors  Year  Runtime (Minutes)  \\\n",
       "0  Chris Pratt, Vin Diesel, Bradley Cooper, Zoe S...  2014                121   \n",
       "1  Noomi Rapace, Logan Marshall-Green, Michael Fa...  2012                124   \n",
       "2  James McAvoy, Anya Taylor-Joy, Haley Lu Richar...  2016                117   \n",
       "3  Matthew McConaughey,Reese Witherspoon, Seth Ma...  2016                108   \n",
       "4  Will Smith, Jared Leto, Margot Robbie, Viola D...  2016                123   \n",
       "\n",
       "   Rating   Votes  Revenue (Millions)  Metascore  \n",
       "0     8.1  757074              333.13       76.0  \n",
       "1     7.0  485820              126.46       65.0  \n",
       "2     7.3  157606              138.12       62.0  \n",
       "3     7.2   60545              270.32       59.0  \n",
       "4     6.2  393727              325.02       40.0  "
      ]
     },
     "execution_count": 4,
     "metadata": {},
     "output_type": "execute_result"
    }
   ],
   "source": [
    "df = pd.read_csv(\"IMDB-Movie-Data.csv\")\n",
    "df.head(5)"
   ]
  },
  {
   "cell_type": "markdown",
   "id": "e5f0eaef",
   "metadata": {},
   "source": [
    "## Understanding my Dataset"
   ]
  },
  {
   "cell_type": "code",
   "execution_count": 19,
   "id": "1683650e",
   "metadata": {},
   "outputs": [
    {
     "data": {
      "text/plain": [
       "(1000, 12)"
      ]
     },
     "execution_count": 19,
     "metadata": {},
     "output_type": "execute_result"
    }
   ],
   "source": [
    "df.shape"
   ]
  },
  {
   "cell_type": "code",
   "execution_count": 5,
   "id": "66ae27ad",
   "metadata": {},
   "outputs": [
    {
     "data": {
      "text/plain": [
       "12"
      ]
     },
     "execution_count": 5,
     "metadata": {},
     "output_type": "execute_result"
    }
   ],
   "source": [
    "df.shape[1]"
   ]
  },
  {
   "cell_type": "code",
   "execution_count": 6,
   "id": "bc1b8962",
   "metadata": {},
   "outputs": [
    {
     "data": {
      "text/plain": [
       "1000"
      ]
     },
     "execution_count": 6,
     "metadata": {},
     "output_type": "execute_result"
    }
   ],
   "source": [
    "df.shape[0]"
   ]
  },
  {
   "cell_type": "code",
   "execution_count": 8,
   "id": "1d774baf",
   "metadata": {},
   "outputs": [
    {
     "name": "stdout",
     "output_type": "stream",
     "text": [
      "There are 1000 rows and df 12 columns in the dataset.\n"
     ]
    }
   ],
   "source": [
    "print(f\"There are {df.shape[0]} rows and df {df.shape[1]} columns in the dataset.\")"
   ]
  },
  {
   "cell_type": "code",
   "execution_count": 9,
   "id": "1ffe4857",
   "metadata": {},
   "outputs": [
    {
     "data": {
      "text/html": [
       "<div>\n",
       "<style scoped>\n",
       "    .dataframe tbody tr th:only-of-type {\n",
       "        vertical-align: middle;\n",
       "    }\n",
       "\n",
       "    .dataframe tbody tr th {\n",
       "        vertical-align: top;\n",
       "    }\n",
       "\n",
       "    .dataframe thead th {\n",
       "        text-align: right;\n",
       "    }\n",
       "</style>\n",
       "<table border=\"1\" class=\"dataframe\">\n",
       "  <thead>\n",
       "    <tr style=\"text-align: right;\">\n",
       "      <th></th>\n",
       "      <th>Rank</th>\n",
       "      <th>Year</th>\n",
       "      <th>Runtime (Minutes)</th>\n",
       "      <th>Rating</th>\n",
       "      <th>Votes</th>\n",
       "      <th>Revenue (Millions)</th>\n",
       "      <th>Metascore</th>\n",
       "    </tr>\n",
       "  </thead>\n",
       "  <tbody>\n",
       "    <tr>\n",
       "      <th>count</th>\n",
       "      <td>1000.000000</td>\n",
       "      <td>1000.000000</td>\n",
       "      <td>1000.000000</td>\n",
       "      <td>1000.000000</td>\n",
       "      <td>1.000000e+03</td>\n",
       "      <td>872.000000</td>\n",
       "      <td>936.000000</td>\n",
       "    </tr>\n",
       "    <tr>\n",
       "      <th>mean</th>\n",
       "      <td>500.500000</td>\n",
       "      <td>2012.783000</td>\n",
       "      <td>113.172000</td>\n",
       "      <td>6.723200</td>\n",
       "      <td>1.698083e+05</td>\n",
       "      <td>82.956376</td>\n",
       "      <td>58.985043</td>\n",
       "    </tr>\n",
       "    <tr>\n",
       "      <th>std</th>\n",
       "      <td>288.819436</td>\n",
       "      <td>3.205962</td>\n",
       "      <td>18.810908</td>\n",
       "      <td>0.945429</td>\n",
       "      <td>1.887626e+05</td>\n",
       "      <td>103.253540</td>\n",
       "      <td>17.194757</td>\n",
       "    </tr>\n",
       "    <tr>\n",
       "      <th>min</th>\n",
       "      <td>1.000000</td>\n",
       "      <td>2006.000000</td>\n",
       "      <td>66.000000</td>\n",
       "      <td>1.900000</td>\n",
       "      <td>6.100000e+01</td>\n",
       "      <td>0.000000</td>\n",
       "      <td>11.000000</td>\n",
       "    </tr>\n",
       "    <tr>\n",
       "      <th>25%</th>\n",
       "      <td>250.750000</td>\n",
       "      <td>2010.000000</td>\n",
       "      <td>100.000000</td>\n",
       "      <td>6.200000</td>\n",
       "      <td>3.630900e+04</td>\n",
       "      <td>13.270000</td>\n",
       "      <td>47.000000</td>\n",
       "    </tr>\n",
       "    <tr>\n",
       "      <th>50%</th>\n",
       "      <td>500.500000</td>\n",
       "      <td>2014.000000</td>\n",
       "      <td>111.000000</td>\n",
       "      <td>6.800000</td>\n",
       "      <td>1.107990e+05</td>\n",
       "      <td>47.985000</td>\n",
       "      <td>59.500000</td>\n",
       "    </tr>\n",
       "    <tr>\n",
       "      <th>75%</th>\n",
       "      <td>750.250000</td>\n",
       "      <td>2016.000000</td>\n",
       "      <td>123.000000</td>\n",
       "      <td>7.400000</td>\n",
       "      <td>2.399098e+05</td>\n",
       "      <td>113.715000</td>\n",
       "      <td>72.000000</td>\n",
       "    </tr>\n",
       "    <tr>\n",
       "      <th>max</th>\n",
       "      <td>1000.000000</td>\n",
       "      <td>2016.000000</td>\n",
       "      <td>191.000000</td>\n",
       "      <td>9.000000</td>\n",
       "      <td>1.791916e+06</td>\n",
       "      <td>936.630000</td>\n",
       "      <td>100.000000</td>\n",
       "    </tr>\n",
       "  </tbody>\n",
       "</table>\n",
       "</div>"
      ],
      "text/plain": [
       "              Rank         Year  Runtime (Minutes)       Rating         Votes  \\\n",
       "count  1000.000000  1000.000000        1000.000000  1000.000000  1.000000e+03   \n",
       "mean    500.500000  2012.783000         113.172000     6.723200  1.698083e+05   \n",
       "std     288.819436     3.205962          18.810908     0.945429  1.887626e+05   \n",
       "min       1.000000  2006.000000          66.000000     1.900000  6.100000e+01   \n",
       "25%     250.750000  2010.000000         100.000000     6.200000  3.630900e+04   \n",
       "50%     500.500000  2014.000000         111.000000     6.800000  1.107990e+05   \n",
       "75%     750.250000  2016.000000         123.000000     7.400000  2.399098e+05   \n",
       "max    1000.000000  2016.000000         191.000000     9.000000  1.791916e+06   \n",
       "\n",
       "       Revenue (Millions)   Metascore  \n",
       "count          872.000000  936.000000  \n",
       "mean            82.956376   58.985043  \n",
       "std            103.253540   17.194757  \n",
       "min              0.000000   11.000000  \n",
       "25%             13.270000   47.000000  \n",
       "50%             47.985000   59.500000  \n",
       "75%            113.715000   72.000000  \n",
       "max            936.630000  100.000000  "
      ]
     },
     "execution_count": 9,
     "metadata": {},
     "output_type": "execute_result"
    }
   ],
   "source": [
    "df.describe()"
   ]
  },
  {
   "cell_type": "code",
   "execution_count": 5,
   "id": "0f0f11f4",
   "metadata": {},
   "outputs": [
    {
     "name": "stdout",
     "output_type": "stream",
     "text": [
      "<class 'pandas.core.frame.DataFrame'>\n",
      "RangeIndex: 1000 entries, 0 to 999\n",
      "Data columns (total 12 columns):\n",
      " #   Column              Non-Null Count  Dtype  \n",
      "---  ------              --------------  -----  \n",
      " 0   Rank                1000 non-null   int64  \n",
      " 1   Title               1000 non-null   object \n",
      " 2   Genre               1000 non-null   object \n",
      " 3   Description         1000 non-null   object \n",
      " 4   Director            1000 non-null   object \n",
      " 5   Actors              1000 non-null   object \n",
      " 6   Year                1000 non-null   int64  \n",
      " 7   Runtime (Minutes)   1000 non-null   int64  \n",
      " 8   Rating              1000 non-null   float64\n",
      " 9   Votes               1000 non-null   int64  \n",
      " 10  Revenue (Millions)  872 non-null    float64\n",
      " 11  Metascore           936 non-null    float64\n",
      "dtypes: float64(3), int64(4), object(5)\n",
      "memory usage: 93.9+ KB\n"
     ]
    }
   ],
   "source": [
    "df.info()"
   ]
  },
  {
   "cell_type": "code",
   "execution_count": 12,
   "id": "162d9b30",
   "metadata": {},
   "outputs": [
    {
     "data": {
      "text/plain": [
       "Index(['Rank', 'Title', 'Genre', 'Description', 'Director', 'Actors', 'Year',\n",
       "       'Runtime (Minutes)', 'Rating', 'Votes', 'Revenue (Millions)',\n",
       "       'Metascore'],\n",
       "      dtype='object')"
      ]
     },
     "execution_count": 12,
     "metadata": {},
     "output_type": "execute_result"
    }
   ],
   "source": [
    "# renainming columns\n",
    "df.columns"
   ]
  },
  {
   "cell_type": "markdown",
   "id": "6f445c2c",
   "metadata": {},
   "source": [
    "### Data Cleaning\n",
    "\n",
    "* Rename Column\n",
    "* Changing the Datatype\n",
    "* Remove Irrelevant data\n",
    "* Remove duplicate\n",
    "* Fill in missing Value"
   ]
  },
  {
   "cell_type": "code",
   "execution_count": 7,
   "id": "9a690ceb",
   "metadata": {},
   "outputs": [],
   "source": [
    "df.rename(columns= {'Runtime (Minutes)': 'Runtime', 'Revenue (Millions)':'Revenue'}, inplace= True)"
   ]
  },
  {
   "cell_type": "code",
   "execution_count": 8,
   "id": "441f1f67",
   "metadata": {},
   "outputs": [
    {
     "data": {
      "text/plain": [
       "Index(['Rank', 'Title', 'Genre', 'Description', 'Director', 'Actors', 'Year',\n",
       "       'Runtime', 'Rating', 'Votes', 'Revenue', 'Metascore'],\n",
       "      dtype='object')"
      ]
     },
     "execution_count": 8,
     "metadata": {},
     "output_type": "execute_result"
    }
   ],
   "source": [
    "df.columns"
   ]
  },
  {
   "cell_type": "code",
   "execution_count": 9,
   "id": "6a0b8d0e",
   "metadata": {},
   "outputs": [
    {
     "data": {
      "text/plain": [
       "Rank             int64\n",
       "Title           object\n",
       "Genre           object\n",
       "Description     object\n",
       "Director        object\n",
       "Actors          object\n",
       "Year             int64\n",
       "Runtime          int64\n",
       "Rating         float64\n",
       "Votes            int64\n",
       "Revenue        float64\n",
       "Metascore      float64\n",
       "dtype: object"
      ]
     },
     "execution_count": 9,
     "metadata": {},
     "output_type": "execute_result"
    }
   ],
   "source": [
    "# return datatypes\n",
    "df.dtypes"
   ]
  },
  {
   "cell_type": "code",
   "execution_count": 11,
   "id": "d70fc1c8",
   "metadata": {},
   "outputs": [
    {
     "data": {
      "text/html": [
       "<div>\n",
       "<style scoped>\n",
       "    .dataframe tbody tr th:only-of-type {\n",
       "        vertical-align: middle;\n",
       "    }\n",
       "\n",
       "    .dataframe tbody tr th {\n",
       "        vertical-align: top;\n",
       "    }\n",
       "\n",
       "    .dataframe thead th {\n",
       "        text-align: right;\n",
       "    }\n",
       "</style>\n",
       "<table border=\"1\" class=\"dataframe\">\n",
       "  <thead>\n",
       "    <tr style=\"text-align: right;\">\n",
       "      <th></th>\n",
       "      <th>Rank</th>\n",
       "      <th>Title</th>\n",
       "      <th>Genre</th>\n",
       "      <th>Description</th>\n",
       "      <th>Director</th>\n",
       "      <th>Actors</th>\n",
       "      <th>Year</th>\n",
       "      <th>Runtime</th>\n",
       "      <th>Rating</th>\n",
       "      <th>Votes</th>\n",
       "      <th>Revenue</th>\n",
       "      <th>Metascore</th>\n",
       "    </tr>\n",
       "  </thead>\n",
       "  <tbody>\n",
       "    <tr>\n",
       "      <th>count</th>\n",
       "      <td>1000.000000</td>\n",
       "      <td>1000</td>\n",
       "      <td>1000</td>\n",
       "      <td>1000</td>\n",
       "      <td>1000</td>\n",
       "      <td>1000</td>\n",
       "      <td>1000.000000</td>\n",
       "      <td>1000.000000</td>\n",
       "      <td>1000.000000</td>\n",
       "      <td>1.000000e+03</td>\n",
       "      <td>872.000000</td>\n",
       "      <td>936.000000</td>\n",
       "    </tr>\n",
       "    <tr>\n",
       "      <th>unique</th>\n",
       "      <td>NaN</td>\n",
       "      <td>999</td>\n",
       "      <td>207</td>\n",
       "      <td>1000</td>\n",
       "      <td>644</td>\n",
       "      <td>996</td>\n",
       "      <td>NaN</td>\n",
       "      <td>NaN</td>\n",
       "      <td>NaN</td>\n",
       "      <td>NaN</td>\n",
       "      <td>NaN</td>\n",
       "      <td>NaN</td>\n",
       "    </tr>\n",
       "    <tr>\n",
       "      <th>top</th>\n",
       "      <td>NaN</td>\n",
       "      <td>The Host</td>\n",
       "      <td>Action,Adventure,Sci-Fi</td>\n",
       "      <td>A group of intergalactic criminals are forced ...</td>\n",
       "      <td>Ridley Scott</td>\n",
       "      <td>Jennifer Lawrence, Josh Hutcherson, Liam Hemsw...</td>\n",
       "      <td>NaN</td>\n",
       "      <td>NaN</td>\n",
       "      <td>NaN</td>\n",
       "      <td>NaN</td>\n",
       "      <td>NaN</td>\n",
       "      <td>NaN</td>\n",
       "    </tr>\n",
       "    <tr>\n",
       "      <th>freq</th>\n",
       "      <td>NaN</td>\n",
       "      <td>2</td>\n",
       "      <td>50</td>\n",
       "      <td>1</td>\n",
       "      <td>8</td>\n",
       "      <td>2</td>\n",
       "      <td>NaN</td>\n",
       "      <td>NaN</td>\n",
       "      <td>NaN</td>\n",
       "      <td>NaN</td>\n",
       "      <td>NaN</td>\n",
       "      <td>NaN</td>\n",
       "    </tr>\n",
       "    <tr>\n",
       "      <th>mean</th>\n",
       "      <td>500.500000</td>\n",
       "      <td>NaN</td>\n",
       "      <td>NaN</td>\n",
       "      <td>NaN</td>\n",
       "      <td>NaN</td>\n",
       "      <td>NaN</td>\n",
       "      <td>2012.783000</td>\n",
       "      <td>113.172000</td>\n",
       "      <td>6.723200</td>\n",
       "      <td>1.698083e+05</td>\n",
       "      <td>82.956376</td>\n",
       "      <td>58.985043</td>\n",
       "    </tr>\n",
       "    <tr>\n",
       "      <th>std</th>\n",
       "      <td>288.819436</td>\n",
       "      <td>NaN</td>\n",
       "      <td>NaN</td>\n",
       "      <td>NaN</td>\n",
       "      <td>NaN</td>\n",
       "      <td>NaN</td>\n",
       "      <td>3.205962</td>\n",
       "      <td>18.810908</td>\n",
       "      <td>0.945429</td>\n",
       "      <td>1.887626e+05</td>\n",
       "      <td>103.253540</td>\n",
       "      <td>17.194757</td>\n",
       "    </tr>\n",
       "    <tr>\n",
       "      <th>min</th>\n",
       "      <td>1.000000</td>\n",
       "      <td>NaN</td>\n",
       "      <td>NaN</td>\n",
       "      <td>NaN</td>\n",
       "      <td>NaN</td>\n",
       "      <td>NaN</td>\n",
       "      <td>2006.000000</td>\n",
       "      <td>66.000000</td>\n",
       "      <td>1.900000</td>\n",
       "      <td>6.100000e+01</td>\n",
       "      <td>0.000000</td>\n",
       "      <td>11.000000</td>\n",
       "    </tr>\n",
       "    <tr>\n",
       "      <th>25%</th>\n",
       "      <td>250.750000</td>\n",
       "      <td>NaN</td>\n",
       "      <td>NaN</td>\n",
       "      <td>NaN</td>\n",
       "      <td>NaN</td>\n",
       "      <td>NaN</td>\n",
       "      <td>2010.000000</td>\n",
       "      <td>100.000000</td>\n",
       "      <td>6.200000</td>\n",
       "      <td>3.630900e+04</td>\n",
       "      <td>13.270000</td>\n",
       "      <td>47.000000</td>\n",
       "    </tr>\n",
       "    <tr>\n",
       "      <th>50%</th>\n",
       "      <td>500.500000</td>\n",
       "      <td>NaN</td>\n",
       "      <td>NaN</td>\n",
       "      <td>NaN</td>\n",
       "      <td>NaN</td>\n",
       "      <td>NaN</td>\n",
       "      <td>2014.000000</td>\n",
       "      <td>111.000000</td>\n",
       "      <td>6.800000</td>\n",
       "      <td>1.107990e+05</td>\n",
       "      <td>47.985000</td>\n",
       "      <td>59.500000</td>\n",
       "    </tr>\n",
       "    <tr>\n",
       "      <th>75%</th>\n",
       "      <td>750.250000</td>\n",
       "      <td>NaN</td>\n",
       "      <td>NaN</td>\n",
       "      <td>NaN</td>\n",
       "      <td>NaN</td>\n",
       "      <td>NaN</td>\n",
       "      <td>2016.000000</td>\n",
       "      <td>123.000000</td>\n",
       "      <td>7.400000</td>\n",
       "      <td>2.399098e+05</td>\n",
       "      <td>113.715000</td>\n",
       "      <td>72.000000</td>\n",
       "    </tr>\n",
       "    <tr>\n",
       "      <th>max</th>\n",
       "      <td>1000.000000</td>\n",
       "      <td>NaN</td>\n",
       "      <td>NaN</td>\n",
       "      <td>NaN</td>\n",
       "      <td>NaN</td>\n",
       "      <td>NaN</td>\n",
       "      <td>2016.000000</td>\n",
       "      <td>191.000000</td>\n",
       "      <td>9.000000</td>\n",
       "      <td>1.791916e+06</td>\n",
       "      <td>936.630000</td>\n",
       "      <td>100.000000</td>\n",
       "    </tr>\n",
       "  </tbody>\n",
       "</table>\n",
       "</div>"
      ],
      "text/plain": [
       "               Rank     Title                    Genre  \\\n",
       "count   1000.000000      1000                     1000   \n",
       "unique          NaN       999                      207   \n",
       "top             NaN  The Host  Action,Adventure,Sci-Fi   \n",
       "freq            NaN         2                       50   \n",
       "mean     500.500000       NaN                      NaN   \n",
       "std      288.819436       NaN                      NaN   \n",
       "min        1.000000       NaN                      NaN   \n",
       "25%      250.750000       NaN                      NaN   \n",
       "50%      500.500000       NaN                      NaN   \n",
       "75%      750.250000       NaN                      NaN   \n",
       "max     1000.000000       NaN                      NaN   \n",
       "\n",
       "                                              Description      Director  \\\n",
       "count                                                1000          1000   \n",
       "unique                                               1000           644   \n",
       "top     A group of intergalactic criminals are forced ...  Ridley Scott   \n",
       "freq                                                    1             8   \n",
       "mean                                                  NaN           NaN   \n",
       "std                                                   NaN           NaN   \n",
       "min                                                   NaN           NaN   \n",
       "25%                                                   NaN           NaN   \n",
       "50%                                                   NaN           NaN   \n",
       "75%                                                   NaN           NaN   \n",
       "max                                                   NaN           NaN   \n",
       "\n",
       "                                                   Actors         Year  \\\n",
       "count                                                1000  1000.000000   \n",
       "unique                                                996          NaN   \n",
       "top     Jennifer Lawrence, Josh Hutcherson, Liam Hemsw...          NaN   \n",
       "freq                                                    2          NaN   \n",
       "mean                                                  NaN  2012.783000   \n",
       "std                                                   NaN     3.205962   \n",
       "min                                                   NaN  2006.000000   \n",
       "25%                                                   NaN  2010.000000   \n",
       "50%                                                   NaN  2014.000000   \n",
       "75%                                                   NaN  2016.000000   \n",
       "max                                                   NaN  2016.000000   \n",
       "\n",
       "            Runtime       Rating         Votes     Revenue   Metascore  \n",
       "count   1000.000000  1000.000000  1.000000e+03  872.000000  936.000000  \n",
       "unique          NaN          NaN           NaN         NaN         NaN  \n",
       "top             NaN          NaN           NaN         NaN         NaN  \n",
       "freq            NaN          NaN           NaN         NaN         NaN  \n",
       "mean     113.172000     6.723200  1.698083e+05   82.956376   58.985043  \n",
       "std       18.810908     0.945429  1.887626e+05  103.253540   17.194757  \n",
       "min       66.000000     1.900000  6.100000e+01    0.000000   11.000000  \n",
       "25%      100.000000     6.200000  3.630900e+04   13.270000   47.000000  \n",
       "50%      111.000000     6.800000  1.107990e+05   47.985000   59.500000  \n",
       "75%      123.000000     7.400000  2.399098e+05  113.715000   72.000000  \n",
       "max      191.000000     9.000000  1.791916e+06  936.630000  100.000000  "
      ]
     },
     "execution_count": 11,
     "metadata": {},
     "output_type": "execute_result"
    }
   ],
   "source": [
    "df.describe(include='all')"
   ]
  },
  {
   "cell_type": "code",
   "execution_count": 15,
   "id": "25a31f89",
   "metadata": {},
   "outputs": [],
   "source": [
    "# replace value\n",
    "df.replace('10 Cloverfield Lane', 'Ten Cloverfield Lane', inplace=True)"
   ]
  },
  {
   "cell_type": "code",
   "execution_count": 16,
   "id": "0e573f8d",
   "metadata": {
    "scrolled": false
   },
   "outputs": [
    {
     "data": {
      "text/plain": [
       "array(['Guardians of the Galaxy', 'Prometheus', 'Split', 'Sing',\n",
       "       'Suicide Squad', 'The Great Wall', 'La La Land', 'Mindhorn',\n",
       "       'The Lost City of Z', 'Passengers',\n",
       "       'Fantastic Beasts and Where to Find Them', 'Hidden Figures',\n",
       "       'Rogue One', 'Moana', 'Colossal', 'The Secret Life of Pets',\n",
       "       'Hacksaw Ridge', 'Jason Bourne', 'Lion', 'Arrival', 'Gold',\n",
       "       'Manchester by the Sea', 'Hounds of Love', 'Trolls',\n",
       "       'Independence Day: Resurgence', 'Paris pieds nus',\n",
       "       'Bahubali: The Beginning', 'Dead Awake', 'Bad Moms',\n",
       "       \"Assassin's Creed\", 'Why Him?', 'Nocturnal Animals',\n",
       "       'X-Men: Apocalypse', 'Deadpool',\n",
       "       'Resident Evil: The Final Chapter', 'Captain America: Civil War',\n",
       "       'Interstellar', 'Doctor Strange', 'The Magnificent Seven',\n",
       "       '5- 25- 77', 'Sausage Party', 'Moonlight',\n",
       "       \"Don't Fuck in the Woods\", 'The Founder', 'Lowriders',\n",
       "       'Pirates of the Caribbean: On Stranger Tides', 'Miss Sloane',\n",
       "       'Fallen', 'Star Trek Beyond', 'The Last Face',\n",
       "       'Star Wars: Episode VII - The Force Awakens',\n",
       "       'Underworld: Blood Wars', \"Mother's Day\", 'John Wick',\n",
       "       'The Dark Knight', 'Silence', \"Don't Breathe\", 'Me Before You',\n",
       "       'Their Finest', 'Sully', 'Batman v Superman: Dawn of Justice',\n",
       "       'The Autopsy of Jane Doe', 'The Girl on the Train',\n",
       "       'Fifty Shades of Grey', 'The Prestige',\n",
       "       'Kingsman: The Secret Service', 'Patriots Day',\n",
       "       'Mad Max: Fury Road', 'Wakefield', 'Deepwater Horizon',\n",
       "       'The Promise', 'Allied', 'A Monster Calls', 'Collateral Beauty',\n",
       "       'Zootopia', \"Pirates of the Caribbean: At World's End\",\n",
       "       'The Avengers', 'Inglourious Basterds',\n",
       "       \"Pirates of the Caribbean: Dead Man's Chest\", 'Ghostbusters',\n",
       "       'Inception', 'Captain Fantastic', 'The Wolf of Wall Street',\n",
       "       'Gone Girl', 'Furious Seven', 'Jurassic World', 'Live by Night',\n",
       "       'Avatar', 'The Hateful Eight', 'The Accountant', 'Prisoners',\n",
       "       'Warcraft', 'The Help', 'War Dogs', 'Avengers: Age of Ultron',\n",
       "       'The Nice Guys', 'Kimi no na wa', 'The Void', 'Personal Shopper',\n",
       "       'The Departed', 'Legend', 'Thor', 'The Martian', 'Contratiempo',\n",
       "       'The Man from U.N.C.L.E.', 'Hell or High Water', 'The Comedian',\n",
       "       'The Legend of Tarzan', 'All We Had', 'Ex Machina',\n",
       "       'The Belko Experiment', '12 Years a Slave', 'The Bad Batch', '300',\n",
       "       'Harry Potter and the Deathly Hallows: Part 2',\n",
       "       'Office Christmas Party', 'The Neon Demon', 'Dangal',\n",
       "       'Ten Cloverfield Lane', 'Finding Dory',\n",
       "       \"Miss Peregrine's Home for Peculiar Children\", 'Divergent',\n",
       "       'Mike and Dave Need Wedding Dates', 'Boyka: Undisputed IV',\n",
       "       'The Dark Knight Rises', 'The Jungle Book',\n",
       "       'Transformers: Age of Extinction', 'Nerve', 'Mamma Mia!',\n",
       "       'The Revenant', 'Fences', 'Into the Woods', 'The Shallows',\n",
       "       'Whiplash', 'Furious 6', 'The Place Beyond the Pines',\n",
       "       'No Country for Old Men', 'The Great Gatsby', 'Shutter Island',\n",
       "       'Brimstone', 'Star Trek', 'Diary of a Wimpy Kid', 'The Big Short',\n",
       "       'Room', 'Django Unchained', 'Ah-ga-ssi', 'The Edge of Seventeen',\n",
       "       'Watchmen', 'Superbad', 'Inferno', 'The BFG', 'The Hunger Games',\n",
       "       'White Girl', 'Sicario', 'Twin Peaks: The Missing Pieces',\n",
       "       'Aliens vs Predator - Requiem', 'Pacific Rim',\n",
       "       'Crazy, Stupid, Love.', 'Scott Pilgrim vs. the World', 'Hot Fuzz',\n",
       "       'Mine', 'Free Fire', 'X-Men: Days of Future Past',\n",
       "       'Jack Reacher: Never Go Back', 'Casino Royale', 'Twilight',\n",
       "       'Now You See Me 2', 'Woman in Gold', '13 Hours', 'Spectre',\n",
       "       'Nightcrawler', 'Kubo and the Two Strings', 'Beyond the Gates',\n",
       "       'Her', 'Frozen', 'Tomorrowland', 'Dawn of the Planet of the Apes',\n",
       "       'Tropic Thunder', 'The Conjuring 2', 'Ant-Man',\n",
       "       \"Bridget Jones's Baby\", 'The VVitch: A New-England Folktale',\n",
       "       'Cinderella', 'Realive', 'Forushande', 'Love',\n",
       "       \"Billy Lynn's Long Halftime Walk\", 'Crimson Peak', 'Drive',\n",
       "       'Trainwreck', 'The Light Between Oceans', 'Below Her Mouth',\n",
       "       'Spotlight', 'Morgan', 'Warrior',\n",
       "       'Captain America: The First Avenger', 'Hacker', 'Into the Wild',\n",
       "       'The Imitation Game', 'Central Intelligence', 'Edge of Tomorrow',\n",
       "       'A Cure for Wellness', 'Snowden', 'Iron Man', 'Allegiant',\n",
       "       'X: First Class', 'Raw (II)', 'Paterson', 'Bridesmaids',\n",
       "       'The Girl with All the Gifts', 'San Andreas', 'Spring Breakers',\n",
       "       'Transformers', 'Old Boy', 'Thor: The Dark World', 'Gods of Egypt',\n",
       "       'Captain America: The Winter Soldier', 'Monster Trucks',\n",
       "       'A Dark Song', 'Kick-Ass', 'Hardcore Henry', 'Cars', 'It Follows',\n",
       "       'The Girl with the Dragon Tattoo', \"We're the Millers\",\n",
       "       'American Honey', 'The Lobster', 'Predators', 'Maleficent',\n",
       "       'Rupture', \"Pan's Labyrinth\", 'A Kind of Murder', 'Apocalypto',\n",
       "       'Mission: Impossible - Rogue Nation', \"The Huntsman: Winter's War\",\n",
       "       'The Perks of Being a Wallflower', 'Jackie',\n",
       "       'The Disappointments Room', 'The Grand Budapest Hotel', 'The Host',\n",
       "       'Fury', 'Inside Out', 'Rock Dog', 'Terminator Genisys',\n",
       "       'Percy Jackson & the Olympians: The Lightning Thief',\n",
       "       'Les Misérables', 'Children of Men', '20th Century Women', 'Spy',\n",
       "       'The Intouchables', 'Bonjour Anne', 'Kynodontas',\n",
       "       'Straight Outta Compton', 'The Amazing Spider-Man 2',\n",
       "       'The Conjuring', 'The Hangover', 'Battleship',\n",
       "       'Rise of the Planet of the Apes', 'Lights Out',\n",
       "       'Norman: The Moderate Rise and Tragic Fall of a New York Fixer',\n",
       "       'Birdman or (The Unexpected Virtue of Ignorance)', 'Black Swan',\n",
       "       'Dear White People', 'Nymphomaniac: Vol. I',\n",
       "       'Teenage Mutant Ninja Turtles: Out of the Shadows', 'Knock Knock',\n",
       "       'Dirty Grandpa', 'Cloud Atlas', 'X-Men Origins: Wolverine',\n",
       "       'Satanic', 'Skyfall', 'The Hobbit: An Unexpected Journey',\n",
       "       '21 Jump Street', 'Sing Street', 'Ballerina', 'Oblivion',\n",
       "       '22 Jump Street', 'Zodiac', 'Everybody Wants Some!!',\n",
       "       'Iron Man Three', 'Now You See Me', 'Sherlock Holmes',\n",
       "       'Death Proof', 'The Danish Girl', 'Hercules', 'Sucker Punch',\n",
       "       'Keeping Up with the Joneses', 'Jupiter Ascending', 'Masterminds',\n",
       "       'Iris', 'Busanhaeng', 'Pitch Perfect',\n",
       "       'Neighbors 2: Sorority Rising', 'The Exception', 'Man of Steel',\n",
       "       'The Choice', 'Ice Age: Collision Course', 'The Devil Wears Prada',\n",
       "       'The Infiltrator', 'There Will Be Blood', 'The Equalizer',\n",
       "       'Lone Survivor', 'The Cabin in the Woods', 'The House Bunny',\n",
       "       \"She's Out of My League\", 'Inherent Vice',\n",
       "       'Alice Through the Looking Glass', 'Vincent N Roxxy',\n",
       "       'The Fast and the Furious: Tokyo Drift', 'How to Be Single',\n",
       "       'The Blind Side', \"La vie d'Adèle\", 'The Babadook',\n",
       "       'The Hobbit: The Battle of the Five Armies',\n",
       "       'Harry Potter and the Order of the Phoenix', 'Snowpiercer',\n",
       "       'The 5th Wave', 'The Stakelander', 'The Visit', 'Fast Five',\n",
       "       'Step Up', 'Lovesong', 'RocknRolla', 'In Time',\n",
       "       'The Social Network', 'The Last Witch Hunter',\n",
       "       'Victor Frankenstein', 'A Street Cat Named Bob', 'Green Room',\n",
       "       'Blackhat', 'Storks', 'American Sniper', 'Dallas Buyers Club',\n",
       "       'Lincoln', 'Rush', 'Before I Wake', 'Silver Linings Playbook',\n",
       "       'Tracktown', 'The Fault in Our Stars', 'Blended', 'Fast & Furious',\n",
       "       'Looper', 'White House Down', \"Pete's Dragon\", 'Spider-Man 3',\n",
       "       'The Three Musketeers', 'Stardust', 'American Hustle',\n",
       "       \"Jennifer's Body\", 'Midnight in Paris', 'Lady Macbeth', 'Joy',\n",
       "       'The Dressmaker', 'Café Society', 'Insurgent', 'Seventh Son',\n",
       "       'Demain tout commence', 'The Theory of Everything',\n",
       "       'This Is the End', 'About Time', 'Step Brothers', 'Clown',\n",
       "       'Star Trek Into Darkness', 'Zombieland', 'Hail, Caesar!',\n",
       "       'Slumdog Millionaire', 'The Twilight Saga: Breaking Dawn - Part 2',\n",
       "       'American Wrestler: The Wizard', 'The Amazing Spider-Man',\n",
       "       'Ben-Hur', 'Sleight', 'The Maze Runner', 'Criminal', 'Wanted',\n",
       "       'Florence Foster Jenkins', 'Collide', 'Black Mass', 'Creed',\n",
       "       'Swiss Army Man', 'The Expendables 3', 'What We Do in the Shadows',\n",
       "       'Southpaw', 'Hush', 'Bridge of Spies', 'The Lego Movie', 'Everest',\n",
       "       'Pixels', 'Robin Hood', 'The Wolverine', 'John Carter', 'Keanu',\n",
       "       'The Gunman', 'Steve Jobs', 'Whisky Galore', 'Grown Ups 2',\n",
       "       'The Age of Adaline', 'The Incredible Hulk', 'Couples Retreat',\n",
       "       'Absolutely Anything', 'Magic Mike', 'Minions', 'The Black Room',\n",
       "       'Bronson', 'Despicable Me', 'The Best of Me', 'The Invitation',\n",
       "       'Zero Dark Thirty', 'Tangled',\n",
       "       'The Hunger Games: Mockingjay - Part 2', 'Vacation', 'Taken',\n",
       "       'Pitch Perfect 2', 'Monsters University', 'Elle',\n",
       "       'Mechanic: Resurrection', 'Tusk', \"The Headhunter's Calling\",\n",
       "       'Atonement', 'Harry Potter and the Deathly Hallows: Part 1',\n",
       "       'Shame', 'Hanna', 'The Babysitters',\n",
       "       'Pride and Prejudice and Zombies', '300: Rise of an Empire',\n",
       "       'London Has Fallen', 'The Curious Case of Benjamin Button',\n",
       "       'Sin City: A Dame to Kill For', 'The Bourne Ultimatum',\n",
       "       'Srpski film', 'The Purge: Election Year', '3 Idiots',\n",
       "       'Zoolander 2', 'World War Z',\n",
       "       'Mission: Impossible - Ghost Protocol', 'Let Me Make You a Martyr',\n",
       "       'Filth', 'The Longest Ride', 'The imposible', 'Kick-Ass 2',\n",
       "       'Folk Hero & Funny Guy', 'Oz the Great and Powerful', 'Brooklyn',\n",
       "       'Coraline', 'Blue Valentine', 'The Thinning', 'Silent Hill',\n",
       "       'Dredd', 'Hunt for the Wilderpeople', 'Big Hero 6', 'Carrie',\n",
       "       'Iron Man 2', 'Demolition', 'Pandorum', 'Olympus Has Fallen',\n",
       "       'I Am Number Four', 'Jagten', 'The Proposal', 'Get Hard',\n",
       "       'Just Go with It', 'Revolutionary Road', 'The Town', 'The Boy',\n",
       "       'Denial', 'Predestination', 'Goosebumps',\n",
       "       'Sherlock Holmes: A Game of Shadows', 'Salt', 'Enemy',\n",
       "       'District 9', 'The Other Guys', 'American Gangster',\n",
       "       'Marie Antoinette', '2012',\n",
       "       'Harry Potter and the Half-Blood Prince', 'Argo',\n",
       "       'Eddie the Eagle', 'The Lives of Others', 'Pet', 'Paint It Black',\n",
       "       'Macbeth', 'Forgetting Sarah Marshall', 'The Giver', 'Triple 9',\n",
       "       'Perfetti sconosciuti', 'Angry Birds', 'Moonrise Kingdom',\n",
       "       'Hairspray', 'Safe Haven', 'Focus', 'Ratatouille', 'Stake Land',\n",
       "       'The Book of Eli', 'Cloverfield', 'Point Break', 'Under the Skin',\n",
       "       'I Am Legend', 'Men in Black 3', 'Super 8', 'Law Abiding Citizen',\n",
       "       'Up', 'Maze Runner: The Scorch Trials', 'Carol', 'Imperium',\n",
       "       'Youth', 'Mr. Nobody', 'City of Tiny Lights', 'Savages',\n",
       "       '(500) Days of Summer', 'Movie 43', 'Gravity',\n",
       "       'The Boy in the Striped Pyjamas', 'Shooter', 'The Happening',\n",
       "       'Bone Tomahawk', 'Magic Mike XXL', 'Easy A',\n",
       "       'Exodus: Gods and Kings', 'Chappie',\n",
       "       'The Hobbit: The Desolation of Smaug', 'Half of a Yellow Sun',\n",
       "       'Anthropoid', 'The Counselor', 'Viking', 'Whiskey Tango Foxtrot',\n",
       "       'Trust', 'Birth of the Dragon', 'Elysium', 'The Green Inferno',\n",
       "       'Godzilla', 'The Bourne Legacy', 'A Good Year', 'Friend Request',\n",
       "       'Deja Vu', 'Lucy', 'A Quiet Passion', 'Need for Speed',\n",
       "       'Jack Reacher', 'The Do-Over', 'True Crimes', 'American Pastoral',\n",
       "       'The Ghost Writer', 'Limitless', 'Spectral', 'P.S. I Love You',\n",
       "       'Zipper', 'Midnight Special', \"Don't Think Twice\",\n",
       "       'Alice in Wonderland', 'Chuck', 'I, Daniel Blake', 'The Break-Up',\n",
       "       'Loving', 'Fantastic Four', 'The Survivalist', 'Colonia',\n",
       "       'The Boy Next Door', 'The Gift', 'Dracula Untold',\n",
       "       'In the Heart of the Sea', 'Idiocracy', 'The Expendables',\n",
       "       'Evil Dead', 'Sinister', 'Wreck-It Ralph',\n",
       "       'Snow White and the Huntsman', 'Pan',\n",
       "       'Transformers: Dark of the Moon', 'Juno',\n",
       "       'A Hologram for the King', 'Money Monster', 'The Other Woman',\n",
       "       'Enchanted', 'The Intern', 'Little Miss Sunshine',\n",
       "       'Bleed for This', 'Clash of the Titans', 'The Finest Hours',\n",
       "       'Tron', 'The Hunger Games: Catching Fire', 'All Good Things',\n",
       "       'Kickboxer: Vengeance', 'The Last Airbender', 'Sex Tape',\n",
       "       \"What to Expect When You're Expecting\", 'Moneyball', 'Ghost Rider',\n",
       "       'Unbroken', 'Immortals', 'Sunshine', 'Brave',\n",
       "       'Män som hatar kvinnor', 'Adoration', 'The Drop', \"She's the Man\",\n",
       "       \"Daddy's Home\", 'Let Me In', 'Never Back Down', 'Grimsby', 'Moon',\n",
       "       'Megamind', 'Gangster Squad', 'Blood Father',\n",
       "       \"He's Just Not That Into You\", 'Kung Fu Panda 3',\n",
       "       'The Rise of the Krays', 'Handsome Devil', \"Winter's Bone\",\n",
       "       'Horrible Bosses', 'Mommy', 'Hellboy II: The Golden Army',\n",
       "       'Beautiful Creatures', 'Toni Erdmann', 'The Lovely Bones',\n",
       "       'The Assassination of Jesse James by the Coward Robert Ford',\n",
       "       'Don Jon', 'Bastille Day', \"2307: Winter's Dream\",\n",
       "       'Free State of Jones', 'Mr. Right',\n",
       "       'The Secret Life of Walter Mitty', 'Dope', 'Underworld Awakening',\n",
       "       'Antichrist', 'Friday the 13th', 'Taken 3', 'Total Recall',\n",
       "       'X-Men: The Last Stand', 'The Escort', 'The Whole Truth',\n",
       "       'Night at the Museum: Secret of the Tomb', 'Love & Other Drugs',\n",
       "       'The Interview', 'Megan Is Missing', 'WALL·E', 'Knocked Up',\n",
       "       'Source Code', 'Lawless', 'Unfriended', 'American Reunion',\n",
       "       'The Pursuit of Happyness', 'Relatos salvajes', 'The Ridiculous 6',\n",
       "       'Frantz', 'Viral', 'Gran Torino', 'Burnt', 'Tall Men',\n",
       "       'Sleeping Beauty', 'Vampire Academy',\n",
       "       'Sweeney Todd: The Demon Barber of Fleet Street', 'Solace',\n",
       "       'Insidious', 'Popstar: Never Stop Never Stopping', 'The Levelling',\n",
       "       'Public Enemies', 'Boyhood', 'Teenage Mutant Ninja Turtles',\n",
       "       'Eastern Promises', 'The Daughter', 'Pineapple Express',\n",
       "       'The First Time', 'Gone Baby Gone', 'The Heat', \"L'avenir\",\n",
       "       'Anna Karenina', 'Regression', 'Ted 2', 'Pain & Gain',\n",
       "       'Blood Diamond', \"Devil's Knot\", 'Child 44', 'The Hurt Locker',\n",
       "       'Green Lantern', 'War on Everyone', 'The Mist', 'Escape Plan',\n",
       "       'Love, Rosie', 'The DUFF', 'The Age of Shadows',\n",
       "       'The Hunger Games: Mockingjay - Part 1',\n",
       "       'We Need to Talk About Kevin', 'Love & Friendship',\n",
       "       'The Mortal Instruments: City of Bones', 'Seven Pounds',\n",
       "       \"The King's Speech\", 'Hunger', 'Jumper', 'Toy Story 3',\n",
       "       'Tinker Tailor Soldier Spy', 'Resident Evil: Retribution',\n",
       "       'Dear Zindagi', 'Genius', 'Pompeii', 'Life of Pi',\n",
       "       \"Hachi: A Dog's Tale\", '10 Years', 'I Origins',\n",
       "       'Live Free or Die Hard', 'The Matchbreaker', 'Funny Games', 'Ted',\n",
       "       'RED', 'Australia', 'Faster', 'The Neighbor',\n",
       "       'The Adjustment Bureau', 'The Hollars', 'The Judge',\n",
       "       'Closed Circuit', 'Transformers: Revenge of the Fallen',\n",
       "       'La tortue rouge', 'The Book of Life', 'Incendies',\n",
       "       'The Heartbreak Kid', 'Happy Feet', 'Entourage', 'The Strangers',\n",
       "       'Noah', 'Neighbors', 'Nymphomaniac: Vol. II', 'Wild', 'Grown Ups',\n",
       "       'Blair Witch', 'The Karate Kid', 'Dark Shadows',\n",
       "       'Friends with Benefits', 'The Illusionist', 'The A-Team',\n",
       "       'The Guest', 'The Internship', 'Paul', 'This Beautiful Fantastic',\n",
       "       'The Da Vinci Code', 'Mr. Church', 'Hugo',\n",
       "       \"The Blackcoat's Daughter\", 'Body of Lies', 'Knight of Cups',\n",
       "       'The Mummy: Tomb of the Dragon Emperor', 'The Boss',\n",
       "       'Hands of Stone', 'El secreto de sus ojos', 'True Grit',\n",
       "       'We Are Your Friends', 'A Million Ways to Die in the West',\n",
       "       'Only for One Night', \"Rules Don't Apply\", 'Ouija: Origin of Evil',\n",
       "       'Percy Jackson: Sea of Monsters', 'Fracture', 'Oculus',\n",
       "       'In Bruges', 'This Means War', 'Lída Baarová', 'The Road',\n",
       "       'Lavender', 'Deuces', 'Conan the Barbarian', 'The Fighter',\n",
       "       'August Rush', 'Chef', 'Eye in the Sky', 'Eagle Eye', 'The Purge',\n",
       "       'PK', \"Ender's Game\",\n",
       "       'Indiana Jones and the Kingdom of the Crystal Skull',\n",
       "       'Paper Towns', 'High-Rise', 'Quantum of Solace', 'The Assignment',\n",
       "       'How to Train Your Dragon', 'Lady in the Water', 'The Fountain',\n",
       "       'Cars 2', '31', 'Final Girl', 'Chalk It Up',\n",
       "       'The Man Who Knew Infinity', 'Unknown', 'Self/less', 'Mr. Brooks',\n",
       "       'Tramps', 'Before We Go', 'Captain Phillips',\n",
       "       'The Secret Scripture', 'Max Steel', 'Hotel Transylvania 2',\n",
       "       'Hancock', 'Sisters', 'The Family', 'Zack and Miri Make a Porno',\n",
       "       'Ma vie de Courgette', 'Man on a Ledge', 'No Strings Attached',\n",
       "       'Rescue Dawn', 'Despicable Me 2', 'A Walk Among the Tombstones',\n",
       "       \"The World's End\", 'Yoga Hosers', 'Seven Psychopaths', 'Beowulf',\n",
       "       'Jack Ryan: Shadow Recruit', '1408', 'The Gambler',\n",
       "       'Prince of Persia: The Sands of Time', 'The Spectacular Now',\n",
       "       'A United Kingdom', 'USS Indianapolis: Men of Courage',\n",
       "       'Turbo Kid', 'Mama', 'Orphan', 'To Rome with Love',\n",
       "       'Fantastic Mr. Fox', 'Inside Man', 'I.T.', '127 Hours',\n",
       "       'Annabelle', 'Wolves at the Door', 'Suite Française',\n",
       "       'The Imaginarium of Doctor Parnassus',\n",
       "       'G.I. Joe: The Rise of Cobra', 'Christine', 'Man Down',\n",
       "       'Crawlspace', 'Shut In', 'The Warriors Gate', 'Grindhouse',\n",
       "       'Disaster Movie', 'Rocky Balboa', 'Diary of a Wimpy Kid: Dog Days',\n",
       "       'Jane Eyre', \"Fool's Gold\", 'The Dictator', 'The Loft',\n",
       "       'Bacalaureat', \"You Don't Mess with the Zohan\", 'Exposed',\n",
       "       'Maudie', 'Horrible Bosses 2', 'A Bigger Splash', 'Melancholia',\n",
       "       'The Princess and the Frog', 'Unstoppable', 'Flight', 'Home',\n",
       "       'La migliore offerta', 'Mean Dreams', '42', '21', 'Begin Again',\n",
       "       'Out of the Furnace', 'Vicky Cristina Barcelona', 'Kung Fu Panda',\n",
       "       'Barbershop: The Next Cut', 'Terminator Salvation',\n",
       "       'Freedom Writers', 'The Hills Have Eyes', 'Changeling',\n",
       "       'Remember Me', 'Koe no katachi',\n",
       "       'Alexander and the Terrible, Horrible, No Good, Very Bad Day',\n",
       "       'Locke', 'The 9th Life of Louis Drax', 'Horns', 'Indignation',\n",
       "       'The Stanford Prison Experiment',\n",
       "       'Diary of a Wimpy Kid: Rodrick Rules', 'Mission: Impossible III',\n",
       "       'En man som heter Ove', 'Dragonball Evolution', 'Red Dawn',\n",
       "       'One Day', 'Life as We Know It', '28 Weeks Later', 'Warm Bodies',\n",
       "       'Blue Jasmine', 'G.I. Joe: Retaliation', 'Wrath of the Titans',\n",
       "       'Shin Gojira', 'Saving Mr. Banks', 'Transcendence', 'Rio',\n",
       "       'Equals', 'Babel', 'The Tree of Life', 'The Lucky One',\n",
       "       'Piranha 3D', '50/50', 'The Intent', 'This Is 40', 'Real Steel',\n",
       "       'Sex and the City', 'Rambo', 'Planet Terror', 'Concussion',\n",
       "       'The Fall', 'The Ugly Truth', 'Bride Wars',\n",
       "       'Sleeping with Other People', 'Snakes on a Plane', 'What If',\n",
       "       'How to Train Your Dragon 2', 'RoboCop', 'In Dubious Battle',\n",
       "       'Hello, My Name Is Doris', \"Ocean's Thirteen\", 'Slither',\n",
       "       'Contagion', 'Il racconto dei racconti - Tale of Tales',\n",
       "       'I Am the Pretty Thing That Lives in the House',\n",
       "       'Bridge to Terabithia', 'Coherence', 'Notorious', 'Goksung',\n",
       "       'The Expendables 2', 'The Girl Next Door',\n",
       "       'Perfume: The Story of a Murderer', 'The Golden Compass',\n",
       "       'Centurion', 'Scouts Guide to the Zombie Apocalypse', '17 Again',\n",
       "       'No Escape', 'Superman Returns',\n",
       "       'The Twilight Saga: Breaking Dawn - Part 1', 'Precious',\n",
       "       'The Sea of Trees', 'Good Kids', 'The Master', 'Footloose',\n",
       "       'If I Stay', 'The Ticket', 'Detour', 'The Love Witch',\n",
       "       'Talladega Nights: The Ballad of Ricky Bobby',\n",
       "       'The Human Centipede (First Sequence)', 'Super',\n",
       "       'The Siege of Jadotville', 'Up in the Air',\n",
       "       'The Midnight Meat Train', 'The Twilight Saga: Eclipse',\n",
       "       'Transpecos', \"What's Your Number?\", 'Riddick', 'Triangle',\n",
       "       'The Butler', 'King Cobra', 'After Earth', 'Kicks',\n",
       "       'Me and Earl and the Dying Girl', 'The Descendants',\n",
       "       'Sex and the City 2', 'The Kings of Summer', 'Death Race',\n",
       "       'That Awkward Moment', 'Legion', 'End of Watch', '3 Days to Kill',\n",
       "       'Lucky Number Slevin', 'Trance', 'Into the Forest',\n",
       "       'The Other Boleyn Girl', 'I Spit on Your Grave', 'Custody',\n",
       "       'Inland Empire', \"L'odyssée\", 'The Walk', 'Wrecker',\n",
       "       'The Lone Ranger', 'Texas Chainsaw 3D', 'Disturbia',\n",
       "       'Rock of Ages', 'Scream 4', 'Queen of Katwe',\n",
       "       'My Big Fat Greek Wedding 2', 'Dark Places', 'Amateur Night',\n",
       "       \"It's Only the End of the World\", 'The Skin I Live In',\n",
       "       'Miracles from Heaven', 'Annie', 'Across the Universe',\n",
       "       \"Let's Be Cops\", 'Max', 'Your Highness', 'Final Destination 5',\n",
       "       'Endless Love', 'Martyrs', 'Selma',\n",
       "       'Underworld: Rise of the Lycans', 'Taare Zameen Par',\n",
       "       'Take Me Home Tonight', 'Resident Evil: Afterlife', 'Project X',\n",
       "       'Secret in Their Eyes', 'Hostel: Part II',\n",
       "       'Step Up 2: The Streets', 'Search Party', 'Nine Lives'],\n",
       "      dtype=object)"
      ]
     },
     "execution_count": 16,
     "metadata": {},
     "output_type": "execute_result"
    }
   ],
   "source": [
    "df.Title.unique()"
   ]
  },
  {
   "cell_type": "code",
   "execution_count": 18,
   "id": "b63a149a",
   "metadata": {},
   "outputs": [
    {
     "data": {
      "text/plain": [
       "0"
      ]
     },
     "execution_count": 18,
     "metadata": {},
     "output_type": "execute_result"
    }
   ],
   "source": [
    "# remove duplicate\n",
    "df.duplicated().sum()"
   ]
  },
  {
   "cell_type": "code",
   "execution_count": null,
   "id": "572fa1b4",
   "metadata": {},
   "outputs": [],
   "source": [
    "df.drop_duplicates(inplace=True)"
   ]
  },
  {
   "cell_type": "markdown",
   "id": "674d995d",
   "metadata": {},
   "source": [
    "## Dealing with missing value"
   ]
  },
  {
   "cell_type": "code",
   "execution_count": 20,
   "id": "c989c823",
   "metadata": {},
   "outputs": [
    {
     "name": "stdout",
     "output_type": "stream",
     "text": [
      "<class 'pandas.core.frame.DataFrame'>\n",
      "RangeIndex: 1000 entries, 0 to 999\n",
      "Data columns (total 12 columns):\n",
      " #   Column       Non-Null Count  Dtype  \n",
      "---  ------       --------------  -----  \n",
      " 0   Rank         1000 non-null   int64  \n",
      " 1   Title        1000 non-null   object \n",
      " 2   Genre        1000 non-null   object \n",
      " 3   Description  1000 non-null   object \n",
      " 4   Director     1000 non-null   object \n",
      " 5   Actors       1000 non-null   object \n",
      " 6   Year         1000 non-null   int64  \n",
      " 7   Runtime      1000 non-null   int64  \n",
      " 8   Rating       1000 non-null   float64\n",
      " 9   Votes        1000 non-null   int64  \n",
      " 10  Revenue      872 non-null    float64\n",
      " 11  Metascore    936 non-null    float64\n",
      "dtypes: float64(3), int64(4), object(5)\n",
      "memory usage: 93.9+ KB\n"
     ]
    }
   ],
   "source": [
    "df.info()"
   ]
  },
  {
   "cell_type": "code",
   "execution_count": 21,
   "id": "5be5a2b8",
   "metadata": {},
   "outputs": [
    {
     "data": {
      "text/plain": [
       "82.95637614678898"
      ]
     },
     "execution_count": 21,
     "metadata": {},
     "output_type": "execute_result"
    }
   ],
   "source": [
    "df.Revenue.mean()"
   ]
  },
  {
   "cell_type": "code",
   "execution_count": 22,
   "id": "9a6870c7",
   "metadata": {},
   "outputs": [
    {
     "data": {
      "text/plain": [
       "82.96"
      ]
     },
     "execution_count": 22,
     "metadata": {},
     "output_type": "execute_result"
    }
   ],
   "source": [
    "np.round(df.Revenue.mean(),2)"
   ]
  },
  {
   "cell_type": "code",
   "execution_count": 26,
   "id": "79b6a6d7",
   "metadata": {},
   "outputs": [],
   "source": [
    "avg_revenue = np.round(df.Metascore.mean(),2)\n",
    "df[\"Revenue\"].fillna(avg_revenue,inplace=True)"
   ]
  },
  {
   "cell_type": "code",
   "execution_count": 27,
   "id": "261b7f40",
   "metadata": {},
   "outputs": [
    {
     "data": {
      "text/plain": [
       "0"
      ]
     },
     "execution_count": 27,
     "metadata": {},
     "output_type": "execute_result"
    }
   ],
   "source": [
    "df.Revenue.isnull().sum()"
   ]
  },
  {
   "cell_type": "code",
   "execution_count": 28,
   "id": "a2a4cfd3",
   "metadata": {},
   "outputs": [
    {
     "name": "stdout",
     "output_type": "stream",
     "text": [
      "<class 'pandas.core.frame.DataFrame'>\n",
      "RangeIndex: 1000 entries, 0 to 999\n",
      "Data columns (total 12 columns):\n",
      " #   Column       Non-Null Count  Dtype  \n",
      "---  ------       --------------  -----  \n",
      " 0   Rank         1000 non-null   int64  \n",
      " 1   Title        1000 non-null   object \n",
      " 2   Genre        1000 non-null   object \n",
      " 3   Description  1000 non-null   object \n",
      " 4   Director     1000 non-null   object \n",
      " 5   Actors       1000 non-null   object \n",
      " 6   Year         1000 non-null   int64  \n",
      " 7   Runtime      1000 non-null   int64  \n",
      " 8   Rating       1000 non-null   float64\n",
      " 9   Votes        1000 non-null   int64  \n",
      " 10  Revenue      1000 non-null   float64\n",
      " 11  Metascore    936 non-null    float64\n",
      "dtypes: float64(3), int64(4), object(5)\n",
      "memory usage: 93.9+ KB\n"
     ]
    }
   ],
   "source": [
    "df.info()"
   ]
  },
  {
   "cell_type": "code",
   "execution_count": 29,
   "id": "17be8a3c",
   "metadata": {},
   "outputs": [
    {
     "data": {
      "text/html": [
       "<div>\n",
       "<style scoped>\n",
       "    .dataframe tbody tr th:only-of-type {\n",
       "        vertical-align: middle;\n",
       "    }\n",
       "\n",
       "    .dataframe tbody tr th {\n",
       "        vertical-align: top;\n",
       "    }\n",
       "\n",
       "    .dataframe thead th {\n",
       "        text-align: right;\n",
       "    }\n",
       "</style>\n",
       "<table border=\"1\" class=\"dataframe\">\n",
       "  <thead>\n",
       "    <tr style=\"text-align: right;\">\n",
       "      <th></th>\n",
       "      <th>Rank</th>\n",
       "      <th>Title</th>\n",
       "      <th>Genre</th>\n",
       "      <th>Description</th>\n",
       "      <th>Director</th>\n",
       "      <th>Actors</th>\n",
       "      <th>Year</th>\n",
       "      <th>Runtime</th>\n",
       "      <th>Rating</th>\n",
       "      <th>Votes</th>\n",
       "      <th>Revenue</th>\n",
       "      <th>Metascore</th>\n",
       "    </tr>\n",
       "  </thead>\n",
       "  <tbody>\n",
       "    <tr>\n",
       "      <th>0</th>\n",
       "      <td>1</td>\n",
       "      <td>Guardians of the Galaxy</td>\n",
       "      <td>Action,Adventure,Sci-Fi</td>\n",
       "      <td>A group of intergalactic criminals are forced ...</td>\n",
       "      <td>James Gunn</td>\n",
       "      <td>Chris Pratt, Vin Diesel, Bradley Cooper, Zoe S...</td>\n",
       "      <td>2014</td>\n",
       "      <td>121</td>\n",
       "      <td>8.1</td>\n",
       "      <td>757074</td>\n",
       "      <td>333.13</td>\n",
       "      <td>76.0</td>\n",
       "    </tr>\n",
       "    <tr>\n",
       "      <th>1</th>\n",
       "      <td>2</td>\n",
       "      <td>Prometheus</td>\n",
       "      <td>Adventure,Mystery,Sci-Fi</td>\n",
       "      <td>Following clues to the origin of mankind, a te...</td>\n",
       "      <td>Ridley Scott</td>\n",
       "      <td>Noomi Rapace, Logan Marshall-Green, Michael Fa...</td>\n",
       "      <td>2012</td>\n",
       "      <td>124</td>\n",
       "      <td>7.0</td>\n",
       "      <td>485820</td>\n",
       "      <td>126.46</td>\n",
       "      <td>65.0</td>\n",
       "    </tr>\n",
       "    <tr>\n",
       "      <th>2</th>\n",
       "      <td>3</td>\n",
       "      <td>Split</td>\n",
       "      <td>Horror,Thriller</td>\n",
       "      <td>Three girls are kidnapped by a man with a diag...</td>\n",
       "      <td>M. Night Shyamalan</td>\n",
       "      <td>James McAvoy, Anya Taylor-Joy, Haley Lu Richar...</td>\n",
       "      <td>2016</td>\n",
       "      <td>117</td>\n",
       "      <td>7.3</td>\n",
       "      <td>157606</td>\n",
       "      <td>138.12</td>\n",
       "      <td>62.0</td>\n",
       "    </tr>\n",
       "    <tr>\n",
       "      <th>3</th>\n",
       "      <td>4</td>\n",
       "      <td>Sing</td>\n",
       "      <td>Animation,Comedy,Family</td>\n",
       "      <td>In a city of humanoid animals, a hustling thea...</td>\n",
       "      <td>Christophe Lourdelet</td>\n",
       "      <td>Matthew McConaughey,Reese Witherspoon, Seth Ma...</td>\n",
       "      <td>2016</td>\n",
       "      <td>108</td>\n",
       "      <td>7.2</td>\n",
       "      <td>60545</td>\n",
       "      <td>270.32</td>\n",
       "      <td>59.0</td>\n",
       "    </tr>\n",
       "    <tr>\n",
       "      <th>4</th>\n",
       "      <td>5</td>\n",
       "      <td>Suicide Squad</td>\n",
       "      <td>Action,Adventure,Fantasy</td>\n",
       "      <td>A secret government agency recruits some of th...</td>\n",
       "      <td>David Ayer</td>\n",
       "      <td>Will Smith, Jared Leto, Margot Robbie, Viola D...</td>\n",
       "      <td>2016</td>\n",
       "      <td>123</td>\n",
       "      <td>6.2</td>\n",
       "      <td>393727</td>\n",
       "      <td>325.02</td>\n",
       "      <td>40.0</td>\n",
       "    </tr>\n",
       "  </tbody>\n",
       "</table>\n",
       "</div>"
      ],
      "text/plain": [
       "   Rank                    Title                     Genre  \\\n",
       "0     1  Guardians of the Galaxy   Action,Adventure,Sci-Fi   \n",
       "1     2               Prometheus  Adventure,Mystery,Sci-Fi   \n",
       "2     3                    Split           Horror,Thriller   \n",
       "3     4                     Sing   Animation,Comedy,Family   \n",
       "4     5            Suicide Squad  Action,Adventure,Fantasy   \n",
       "\n",
       "                                         Description              Director  \\\n",
       "0  A group of intergalactic criminals are forced ...            James Gunn   \n",
       "1  Following clues to the origin of mankind, a te...          Ridley Scott   \n",
       "2  Three girls are kidnapped by a man with a diag...    M. Night Shyamalan   \n",
       "3  In a city of humanoid animals, a hustling thea...  Christophe Lourdelet   \n",
       "4  A secret government agency recruits some of th...            David Ayer   \n",
       "\n",
       "                                              Actors  Year  Runtime  Rating  \\\n",
       "0  Chris Pratt, Vin Diesel, Bradley Cooper, Zoe S...  2014      121     8.1   \n",
       "1  Noomi Rapace, Logan Marshall-Green, Michael Fa...  2012      124     7.0   \n",
       "2  James McAvoy, Anya Taylor-Joy, Haley Lu Richar...  2016      117     7.3   \n",
       "3  Matthew McConaughey,Reese Witherspoon, Seth Ma...  2016      108     7.2   \n",
       "4  Will Smith, Jared Leto, Margot Robbie, Viola D...  2016      123     6.2   \n",
       "\n",
       "    Votes  Revenue  Metascore  \n",
       "0  757074   333.13       76.0  \n",
       "1  485820   126.46       65.0  \n",
       "2  157606   138.12       62.0  \n",
       "3   60545   270.32       59.0  \n",
       "4  393727   325.02       40.0  "
      ]
     },
     "execution_count": 29,
     "metadata": {},
     "output_type": "execute_result"
    }
   ],
   "source": [
    "df.head()"
   ]
  },
  {
   "cell_type": "markdown",
   "id": "d806b716",
   "metadata": {},
   "source": [
    "### Analysis"
   ]
  },
  {
   "cell_type": "markdown",
   "id": "1618ecbf",
   "metadata": {},
   "source": [
    "### 1.Total number of movies"
   ]
  },
  {
   "cell_type": "code",
   "execution_count": 31,
   "id": "10a1c89c",
   "metadata": {},
   "outputs": [
    {
     "data": {
      "text/plain": [
       "1000"
      ]
     },
     "execution_count": 31,
     "metadata": {},
     "output_type": "execute_result"
    }
   ],
   "source": [
    "df.Title.count()"
   ]
  },
  {
   "cell_type": "code",
   "execution_count": 33,
   "id": "5af91cf6",
   "metadata": {},
   "outputs": [
    {
     "name": "stdout",
     "output_type": "stream",
     "text": [
      "There are 1000 movies present\n"
     ]
    }
   ],
   "source": [
    "print(f\"There are {df.Title.count()} movies present\")"
   ]
  },
  {
   "cell_type": "markdown",
   "id": "8081ed06",
   "metadata": {},
   "source": [
    "### 2. Movies having Runtime greater than or equal 180 mins"
   ]
  },
  {
   "cell_type": "code",
   "execution_count": 34,
   "id": "cbdf996c",
   "metadata": {},
   "outputs": [
    {
     "data": {
      "text/plain": [
       "191"
      ]
     },
     "execution_count": 34,
     "metadata": {},
     "output_type": "execute_result"
    }
   ],
   "source": [
    "df.Runtime.max()"
   ]
  },
  {
   "cell_type": "code",
   "execution_count": 35,
   "id": "90070b7a",
   "metadata": {},
   "outputs": [
    {
     "data": {
      "text/plain": [
       "82     The Wolf of Wall Street\n",
       "88           The Hateful Eight\n",
       "311             La vie d'Adèle\n",
       "828                 Grindhouse\n",
       "965              Inland Empire\n",
       "Name: Title, dtype: object"
      ]
     },
     "execution_count": 35,
     "metadata": {},
     "output_type": "execute_result"
    }
   ],
   "source": [
    "runtime_above_180 =df.Runtime >= 180\n",
    "df[runtime_above_180].Title"
   ]
  },
  {
   "cell_type": "markdown",
   "id": "f1748db5",
   "metadata": {},
   "source": [
    "### 3. In what year did we have the highest avg.vote"
   ]
  },
  {
   "cell_type": "code",
   "execution_count": 36,
   "id": "8d8d35b4",
   "metadata": {},
   "outputs": [
    {
     "data": {
      "text/plain": [
       "array([2014, 2012, 2016, 2015, 2007, 2011, 2008, 2006, 2009, 2010, 2013],\n",
       "      dtype=int64)"
      ]
     },
     "execution_count": 36,
     "metadata": {},
     "output_type": "execute_result"
    }
   ],
   "source": [
    "df.Year.unique()"
   ]
  },
  {
   "cell_type": "code",
   "execution_count": 37,
   "id": "8de37118",
   "metadata": {},
   "outputs": [
    {
     "data": {
      "text/plain": [
       "0      757074\n",
       "1      485820\n",
       "2      157606\n",
       "3       60545\n",
       "4      393727\n",
       "        ...  \n",
       "995     27585\n",
       "996     73152\n",
       "997     70699\n",
       "998      4881\n",
       "999     12435\n",
       "Name: Votes, Length: 1000, dtype: int64"
      ]
     },
     "execution_count": 37,
     "metadata": {},
     "output_type": "execute_result"
    }
   ],
   "source": [
    "df.Votes"
   ]
  },
  {
   "cell_type": "code",
   "execution_count": 41,
   "id": "6799af38",
   "metadata": {},
   "outputs": [],
   "source": [
    "avg_votes_by_year =df [\"Votes\"].groupby(by=df[\"Year\"]).mean()"
   ]
  },
  {
   "cell_type": "code",
   "execution_count": 42,
   "id": "ce90ae92",
   "metadata": {},
   "outputs": [
    {
     "data": {
      "text/plain": [
       "Year\n",
       "2006    269289.954545\n",
       "2007    244331.037736\n",
       "2008    275505.384615\n",
       "2009    255780.647059\n",
       "2010    252782.316667\n",
       "2011    240790.301587\n",
       "2012    285226.093750\n",
       "2013    219049.648352\n",
       "2014    203930.224490\n",
       "2015    115726.220472\n",
       "2016     48591.754209\n",
       "Name: Votes, dtype: float64"
      ]
     },
     "execution_count": 42,
     "metadata": {},
     "output_type": "execute_result"
    }
   ],
   "source": [
    "avg_votes_by_year "
   ]
  },
  {
   "cell_type": "code",
   "execution_count": 43,
   "id": "cbcbea2d",
   "metadata": {},
   "outputs": [
    {
     "data": {
      "text/plain": [
       "<Axes: xlabel='Year'>"
      ]
     },
     "execution_count": 43,
     "metadata": {},
     "output_type": "execute_result"
    },
    {
     "data": {
      "image/png": "[encoded data removed]",
      "text/plain": [
       "<Figure size 640x480 with 1 Axes>"
      ]
     },
     "metadata": {},
     "output_type": "display_data"
    }
   ],
   "source": [
    "avg_votes_by_year.plot(kind=\"bar\")"
   ]
  },
  {
   "cell_type": "markdown",
   "id": "3af92009",
   "metadata": {},
   "source": [
    "### Top 10 Genre with Movie count"
   ]
  },
  {
   "cell_type": "code",
   "execution_count": 50,
   "id": "957e18b8",
   "metadata": {},
   "outputs": [],
   "source": [
    " top_10_count_by_genre = df[\"Title\"].groupby(by=df[\"Genre\"]).count().sort_values(ascending=False).head(10)\n"
   ]
  },
  {
   "cell_type": "code",
   "execution_count": 51,
   "id": "d8a005de",
   "metadata": {},
   "outputs": [
    {
     "data": {
      "text/plain": [
       "Genre\n",
       "Action,Adventure,Sci-Fi       50\n",
       "Drama                         48\n",
       "Comedy,Drama,Romance          35\n",
       "Comedy                        32\n",
       "Drama,Romance                 31\n",
       "Action,Adventure,Fantasy      27\n",
       "Comedy,Drama                  27\n",
       "Animation,Adventure,Comedy    27\n",
       "Comedy,Romance                26\n",
       "Crime,Drama,Thriller          24\n",
       "Name: Title, dtype: int64"
      ]
     },
     "execution_count": 51,
     "metadata": {},
     "output_type": "execute_result"
    }
   ],
   "source": [
    " top_10_count_by_genre "
   ]
  },
  {
   "cell_type": "code",
   "execution_count": 52,
   "id": "912c68da",
   "metadata": {},
   "outputs": [
    {
     "data": {
      "text/plain": [
       "array([50, 48, 35, 32, 31, 27, 27, 27, 26, 24], dtype=int64)"
      ]
     },
     "execution_count": 52,
     "metadata": {},
     "output_type": "execute_result"
    }
   ],
   "source": [
    " top_10_count_by_genre.values"
   ]
  },
  {
   "cell_type": "code",
   "execution_count": 56,
   "id": "590f299c",
   "metadata": {},
   "outputs": [
    {
     "data": {
      "image/png": "[encoded data removed]",
      "text/plain": [
       "<Figure size 640x480 with 1 Axes>"
      ]
     },
     "metadata": {},
     "output_type": "display_data"
    }
   ],
   "source": [
    " top_10_count_by_genre = df[\"Title\"].groupby(by=df[\"Genre\"]).count().sort_values(ascending=False).head(10)\n",
    "sns.barplot(top_10_count_by_genre, x=top_10_count_by_genre.index, y=top_10_count_by_genre.values)\n",
    "plt.xlabel(\"Genre Type\") # x axis\n",
    "plt.ylabel(\"Movie Count\")# y axis\n",
    "plt.title(\"Top 10 Movie Count by Genre\") # head axis\n",
    "# plt.figure(figsize =)\n",
    "plt.show()\n"
   ]
  },
  {
   "cell_type": "markdown",
   "id": "45fbc6e7",
   "metadata": {},
   "source": [
    "## count of movies by year"
   ]
  },
  {
   "cell_type": "code",
   "execution_count": 65,
   "id": "4512baf6",
   "metadata": {},
   "outputs": [
    {
     "data": {
      "text/html": [
       "<div>\n",
       "<style scoped>\n",
       "    .dataframe tbody tr th:only-of-type {\n",
       "        vertical-align: middle;\n",
       "    }\n",
       "\n",
       "    .dataframe tbody tr th {\n",
       "        vertical-align: top;\n",
       "    }\n",
       "\n",
       "    .dataframe thead th {\n",
       "        text-align: right;\n",
       "    }\n",
       "</style>\n",
       "<table border=\"1\" class=\"dataframe\">\n",
       "  <thead>\n",
       "    <tr style=\"text-align: right;\">\n",
       "      <th></th>\n",
       "      <th>movie_count</th>\n",
       "    </tr>\n",
       "    <tr>\n",
       "      <th>Genre</th>\n",
       "      <th></th>\n",
       "    </tr>\n",
       "  </thead>\n",
       "  <tbody>\n",
       "    <tr>\n",
       "      <th>Action</th>\n",
       "      <td>2</td>\n",
       "    </tr>\n",
       "    <tr>\n",
       "      <th>Action,Adventure</th>\n",
       "      <td>3</td>\n",
       "    </tr>\n",
       "    <tr>\n",
       "      <th>Action,Adventure,Biography</th>\n",
       "      <td>2</td>\n",
       "    </tr>\n",
       "    <tr>\n",
       "      <th>Action,Adventure,Comedy</th>\n",
       "      <td>14</td>\n",
       "    </tr>\n",
       "    <tr>\n",
       "      <th>Action,Adventure,Crime</th>\n",
       "      <td>6</td>\n",
       "    </tr>\n",
       "    <tr>\n",
       "      <th>...</th>\n",
       "      <td>...</td>\n",
       "    </tr>\n",
       "    <tr>\n",
       "      <th>Romance,Sci-Fi,Thriller</th>\n",
       "      <td>1</td>\n",
       "    </tr>\n",
       "    <tr>\n",
       "      <th>Sci-Fi</th>\n",
       "      <td>2</td>\n",
       "    </tr>\n",
       "    <tr>\n",
       "      <th>Sci-Fi,Thriller</th>\n",
       "      <td>1</td>\n",
       "    </tr>\n",
       "    <tr>\n",
       "      <th>Thriller</th>\n",
       "      <td>9</td>\n",
       "    </tr>\n",
       "    <tr>\n",
       "      <th>Thriller,War</th>\n",
       "      <td>1</td>\n",
       "    </tr>\n",
       "  </tbody>\n",
       "</table>\n",
       "<p>207 rows × 1 columns</p>\n",
       "</div>"
      ],
      "text/plain": [
       "                            movie_count\n",
       "Genre                                  \n",
       "Action                                2\n",
       "Action,Adventure                      3\n",
       "Action,Adventure,Biography            2\n",
       "Action,Adventure,Comedy              14\n",
       "Action,Adventure,Crime                6\n",
       "...                                 ...\n",
       "Romance,Sci-Fi,Thriller               1\n",
       "Sci-Fi                                2\n",
       "Sci-Fi,Thriller                       1\n",
       "Thriller                              9\n",
       "Thriller,War                          1\n",
       "\n",
       "[207 rows x 1 columns]"
      ]
     },
     "execution_count": 65,
     "metadata": {},
     "output_type": "execute_result"
    }
   ],
   "source": [
    " df.groupby([\"Genre\"]).aggregate(movie_count = (\"Title\", 'count'))"
   ]
  },
  {
   "cell_type": "code",
   "execution_count": 68,
   "id": "05db1868",
   "metadata": {},
   "outputs": [],
   "source": [
    " genre = df.groupby([\"Genre\"]).aggregate(movie_count = (\"Title\", 'count')).reset_index()"
   ]
  },
  {
   "cell_type": "code",
   "execution_count": 69,
   "id": "df60f5a7",
   "metadata": {},
   "outputs": [
    {
     "data": {
      "text/html": [
       "<div>\n",
       "<style scoped>\n",
       "    .dataframe tbody tr th:only-of-type {\n",
       "        vertical-align: middle;\n",
       "    }\n",
       "\n",
       "    .dataframe tbody tr th {\n",
       "        vertical-align: top;\n",
       "    }\n",
       "\n",
       "    .dataframe thead th {\n",
       "        text-align: right;\n",
       "    }\n",
       "</style>\n",
       "<table border=\"1\" class=\"dataframe\">\n",
       "  <thead>\n",
       "    <tr style=\"text-align: right;\">\n",
       "      <th></th>\n",
       "      <th>Genre</th>\n",
       "      <th>movie_count</th>\n",
       "    </tr>\n",
       "  </thead>\n",
       "  <tbody>\n",
       "    <tr>\n",
       "      <th>0</th>\n",
       "      <td>Action</td>\n",
       "      <td>2</td>\n",
       "    </tr>\n",
       "    <tr>\n",
       "      <th>1</th>\n",
       "      <td>Action,Adventure</td>\n",
       "      <td>3</td>\n",
       "    </tr>\n",
       "    <tr>\n",
       "      <th>2</th>\n",
       "      <td>Action,Adventure,Biography</td>\n",
       "      <td>2</td>\n",
       "    </tr>\n",
       "    <tr>\n",
       "      <th>3</th>\n",
       "      <td>Action,Adventure,Comedy</td>\n",
       "      <td>14</td>\n",
       "    </tr>\n",
       "    <tr>\n",
       "      <th>4</th>\n",
       "      <td>Action,Adventure,Crime</td>\n",
       "      <td>6</td>\n",
       "    </tr>\n",
       "    <tr>\n",
       "      <th>...</th>\n",
       "      <td>...</td>\n",
       "      <td>...</td>\n",
       "    </tr>\n",
       "    <tr>\n",
       "      <th>202</th>\n",
       "      <td>Romance,Sci-Fi,Thriller</td>\n",
       "      <td>1</td>\n",
       "    </tr>\n",
       "    <tr>\n",
       "      <th>203</th>\n",
       "      <td>Sci-Fi</td>\n",
       "      <td>2</td>\n",
       "    </tr>\n",
       "    <tr>\n",
       "      <th>204</th>\n",
       "      <td>Sci-Fi,Thriller</td>\n",
       "      <td>1</td>\n",
       "    </tr>\n",
       "    <tr>\n",
       "      <th>205</th>\n",
       "      <td>Thriller</td>\n",
       "      <td>9</td>\n",
       "    </tr>\n",
       "    <tr>\n",
       "      <th>206</th>\n",
       "      <td>Thriller,War</td>\n",
       "      <td>1</td>\n",
       "    </tr>\n",
       "  </tbody>\n",
       "</table>\n",
       "<p>207 rows × 2 columns</p>\n",
       "</div>"
      ],
      "text/plain": [
       "                          Genre  movie_count\n",
       "0                        Action            2\n",
       "1              Action,Adventure            3\n",
       "2    Action,Adventure,Biography            2\n",
       "3       Action,Adventure,Comedy           14\n",
       "4        Action,Adventure,Crime            6\n",
       "..                          ...          ...\n",
       "202     Romance,Sci-Fi,Thriller            1\n",
       "203                      Sci-Fi            2\n",
       "204             Sci-Fi,Thriller            1\n",
       "205                    Thriller            9\n",
       "206                Thriller,War            1\n",
       "\n",
       "[207 rows x 2 columns]"
      ]
     },
     "execution_count": 69,
     "metadata": {},
     "output_type": "execute_result"
    }
   ],
   "source": [
    "genre"
   ]
  },
  {
   "cell_type": "code",
   "execution_count": 71,
   "id": "6d153444",
   "metadata": {},
   "outputs": [
    {
     "data": {
      "text/html": [
       "<div>\n",
       "<style scoped>\n",
       "    .dataframe tbody tr th:only-of-type {\n",
       "        vertical-align: middle;\n",
       "    }\n",
       "\n",
       "    .dataframe tbody tr th {\n",
       "        vertical-align: top;\n",
       "    }\n",
       "\n",
       "    .dataframe thead th {\n",
       "        text-align: right;\n",
       "    }\n",
       "</style>\n",
       "<table border=\"1\" class=\"dataframe\">\n",
       "  <thead>\n",
       "    <tr style=\"text-align: right;\">\n",
       "      <th></th>\n",
       "      <th>Genre</th>\n",
       "      <th>num_of_movies</th>\n",
       "    </tr>\n",
       "  </thead>\n",
       "  <tbody>\n",
       "    <tr>\n",
       "      <th>11</th>\n",
       "      <td>Action,Adventure,Sci-Fi</td>\n",
       "      <td>50</td>\n",
       "    </tr>\n",
       "    <tr>\n",
       "      <th>149</th>\n",
       "      <td>Drama</td>\n",
       "      <td>48</td>\n",
       "    </tr>\n",
       "    <tr>\n",
       "      <th>118</th>\n",
       "      <td>Comedy,Drama,Romance</td>\n",
       "      <td>35</td>\n",
       "    </tr>\n",
       "    <tr>\n",
       "      <th>108</th>\n",
       "      <td>Comedy</td>\n",
       "      <td>32</td>\n",
       "    </tr>\n",
       "    <tr>\n",
       "      <th>176</th>\n",
       "      <td>Drama,Romance</td>\n",
       "      <td>31</td>\n",
       "    </tr>\n",
       "    <tr>\n",
       "      <th>7</th>\n",
       "      <td>Action,Adventure,Fantasy</td>\n",
       "      <td>27</td>\n",
       "    </tr>\n",
       "    <tr>\n",
       "      <th>112</th>\n",
       "      <td>Comedy,Drama</td>\n",
       "      <td>27</td>\n",
       "    </tr>\n",
       "    <tr>\n",
       "      <th>89</th>\n",
       "      <td>Animation,Adventure,Comedy</td>\n",
       "      <td>27</td>\n",
       "    </tr>\n",
       "    <tr>\n",
       "      <th>134</th>\n",
       "      <td>Comedy,Romance</td>\n",
       "      <td>26</td>\n",
       "    </tr>\n",
       "    <tr>\n",
       "      <th>145</th>\n",
       "      <td>Crime,Drama,Thriller</td>\n",
       "      <td>24</td>\n",
       "    </tr>\n",
       "  </tbody>\n",
       "</table>\n",
       "</div>"
      ],
      "text/plain": [
       "                          Genre  num_of_movies\n",
       "11      Action,Adventure,Sci-Fi             50\n",
       "149                       Drama             48\n",
       "118        Comedy,Drama,Romance             35\n",
       "108                      Comedy             32\n",
       "176               Drama,Romance             31\n",
       "7      Action,Adventure,Fantasy             27\n",
       "112                Comedy,Drama             27\n",
       "89   Animation,Adventure,Comedy             27\n",
       "134              Comedy,Romance             26\n",
       "145        Crime,Drama,Thriller             24"
      ]
     },
     "execution_count": 71,
     "metadata": {},
     "output_type": "execute_result"
    }
   ],
   "source": [
    "# top 10 movies count by genre\n",
    "genre =  df.groupby([\"Genre\"]).aggregate(num_of_movies = (\"Title\", 'count')).reset_index()\n",
    "top_10_genre = genre.sort_values([\"num_of_movies\"], ascending=False).head(10)\n",
    "\n",
    "top_10_genre\n"
   ]
  },
  {
   "cell_type": "code",
   "execution_count": 81,
   "id": "117036f2",
   "metadata": {},
   "outputs": [
    {
     "data": {
      "image/png": "[encoded data removed]",
      "text/plain": [
       "<Figure size 1500x500 with 1 Axes>"
      ]
     },
     "metadata": {},
     "output_type": "display_data"
    }
   ],
   "source": [
    "# visualize the top 10 count by Genre\n",
    "x = top_10_genre['Genre']\n",
    "y = top_10_genre['num_of_movies']\n",
    "# resize to the image\n",
    "plt.figure(figsize = (15,5))\n",
    "\n",
    "sns.barplot(data=top_10_genre, x=x, y=y)\n",
    "plt.xlabel(\"Genre Type\")\n",
    "plt.ylabel(\"Movie Count\")\n",
    "plt.xticks(rotation=45)\n",
    "plt.title(\"Top 10 Movie Count by Genre\")\n",
    "\n",
    "\n",
    "plt.show()"
   ]
  },
  {
   "cell_type": "markdown",
   "id": "b0cd19c4",
   "metadata": {},
   "source": [
    "* Insight Action.Adventure and Sci-Fi Genre has the highest number of movies\n",
    "\n",
    "\n",
    "## 5. Average voting by year"
   ]
  },
  {
   "cell_type": "code",
   "execution_count": 79,
   "id": "823027bf",
   "metadata": {},
   "outputs": [],
   "source": [
    "avg_votes_by_year=df.groupby(df[\"Year\"]).aggregate(avg_votes =(\"Votes\", \"mean\")).reset_index()"
   ]
  },
  {
   "cell_type": "code",
   "execution_count": 80,
   "id": "f0ca9fcf",
   "metadata": {},
   "outputs": [
    {
     "data": {
      "text/html": [
       "<div>\n",
       "<style scoped>\n",
       "    .dataframe tbody tr th:only-of-type {\n",
       "        vertical-align: middle;\n",
       "    }\n",
       "\n",
       "    .dataframe tbody tr th {\n",
       "        vertical-align: top;\n",
       "    }\n",
       "\n",
       "    .dataframe thead th {\n",
       "        text-align: right;\n",
       "    }\n",
       "</style>\n",
       "<table border=\"1\" class=\"dataframe\">\n",
       "  <thead>\n",
       "    <tr style=\"text-align: right;\">\n",
       "      <th></th>\n",
       "      <th>Year</th>\n",
       "      <th>avg_votes</th>\n",
       "    </tr>\n",
       "  </thead>\n",
       "  <tbody>\n",
       "    <tr>\n",
       "      <th>0</th>\n",
       "      <td>2006</td>\n",
       "      <td>269289.954545</td>\n",
       "    </tr>\n",
       "    <tr>\n",
       "      <th>1</th>\n",
       "      <td>2007</td>\n",
       "      <td>244331.037736</td>\n",
       "    </tr>\n",
       "    <tr>\n",
       "      <th>2</th>\n",
       "      <td>2008</td>\n",
       "      <td>275505.384615</td>\n",
       "    </tr>\n",
       "    <tr>\n",
       "      <th>3</th>\n",
       "      <td>2009</td>\n",
       "      <td>255780.647059</td>\n",
       "    </tr>\n",
       "    <tr>\n",
       "      <th>4</th>\n",
       "      <td>2010</td>\n",
       "      <td>252782.316667</td>\n",
       "    </tr>\n",
       "    <tr>\n",
       "      <th>5</th>\n",
       "      <td>2011</td>\n",
       "      <td>240790.301587</td>\n",
       "    </tr>\n",
       "    <tr>\n",
       "      <th>6</th>\n",
       "      <td>2012</td>\n",
       "      <td>285226.093750</td>\n",
       "    </tr>\n",
       "    <tr>\n",
       "      <th>7</th>\n",
       "      <td>2013</td>\n",
       "      <td>219049.648352</td>\n",
       "    </tr>\n",
       "    <tr>\n",
       "      <th>8</th>\n",
       "      <td>2014</td>\n",
       "      <td>203930.224490</td>\n",
       "    </tr>\n",
       "    <tr>\n",
       "      <th>9</th>\n",
       "      <td>2015</td>\n",
       "      <td>115726.220472</td>\n",
       "    </tr>\n",
       "    <tr>\n",
       "      <th>10</th>\n",
       "      <td>2016</td>\n",
       "      <td>48591.754209</td>\n",
       "    </tr>\n",
       "  </tbody>\n",
       "</table>\n",
       "</div>"
      ],
      "text/plain": [
       "    Year      avg_votes\n",
       "0   2006  269289.954545\n",
       "1   2007  244331.037736\n",
       "2   2008  275505.384615\n",
       "3   2009  255780.647059\n",
       "4   2010  252782.316667\n",
       "5   2011  240790.301587\n",
       "6   2012  285226.093750\n",
       "7   2013  219049.648352\n",
       "8   2014  203930.224490\n",
       "9   2015  115726.220472\n",
       "10  2016   48591.754209"
      ]
     },
     "execution_count": 80,
     "metadata": {},
     "output_type": "execute_result"
    }
   ],
   "source": [
    "avg_votes_by_year"
   ]
  },
  {
   "cell_type": "code",
   "execution_count": 83,
   "id": "8aaad4b4",
   "metadata": {},
   "outputs": [
    {
     "data": {
      "image/png": "[encoded data removed]",
      "text/plain": [
       "<Figure size 1500x500 with 1 Axes>"
      ]
     },
     "metadata": {},
     "output_type": "display_data"
    }
   ],
   "source": [
    "# visualize the average votesbby year\n",
    "x = avg_votes_by_year['Year']\n",
    "y = avg_votes_by_year['avg_votes']\n",
    "\n",
    "# resize to the image\n",
    "plt.figure(figsize = (15,5))\n",
    "\n",
    "sns.lineplot(data=avg_votes_by_year, x=x, y=y, label=\"avg_votes\")\n",
    "plt.xlabel(\"Year\")\n",
    "plt.ylabel(\"Avg.Votes\")\n",
    "plt.xticks(rotation=45)\n",
    "plt.title(\"Average Votes by Year\")\n",
    "\n",
    "\n",
    "plt.show()"
   ]
  },
  {
   "cell_type": "markdown",
   "id": "306cad71",
   "metadata": {},
   "source": [
    "## count of Rating Category"
   ]
  },
  {
   "cell_type": "code",
   "execution_count": 86,
   "id": "894594db",
   "metadata": {},
   "outputs": [
    {
     "data": {
      "text/plain": [
       "<bound method Series.sort_values of 0      8.1\n",
       "1      7.0\n",
       "2      7.3\n",
       "3      7.2\n",
       "4      6.2\n",
       "      ... \n",
       "995    6.2\n",
       "996    5.5\n",
       "997    6.2\n",
       "998    5.6\n",
       "999    5.3\n",
       "Name: Rating, Length: 1000, dtype: float64>"
      ]
     },
     "execution_count": 86,
     "metadata": {},
     "output_type": "execute_result"
    }
   ],
   "source": [
    "df.Rating.sort_values"
   ]
  },
  {
   "cell_type": "code",
   "execution_count": 92,
   "id": "64b7e044",
   "metadata": {},
   "outputs": [],
   "source": [
    "def rating_category(rating):\n",
    "    if rating <=3:\n",
    "        return'poor'\n",
    "    elif rating > 3.0 and rating <=6.0:\n",
    "        return 'Good'\n",
    "    else:\n",
    "        return 'Execellent'\n",
    "    "
   ]
  },
  {
   "cell_type": "code",
   "execution_count": 96,
   "id": "febba279",
   "metadata": {},
   "outputs": [],
   "source": [
    "df['Rating_Category'] = df['Rating'].apply(rating_category)"
   ]
  },
  {
   "cell_type": "code",
   "execution_count": 100,
   "id": "684bd4e2",
   "metadata": {},
   "outputs": [
    {
     "data": {
      "text/html": [
       "<div>\n",
       "<style scoped>\n",
       "    .dataframe tbody tr th:only-of-type {\n",
       "        vertical-align: middle;\n",
       "    }\n",
       "\n",
       "    .dataframe tbody tr th {\n",
       "        vertical-align: top;\n",
       "    }\n",
       "\n",
       "    .dataframe thead th {\n",
       "        text-align: right;\n",
       "    }\n",
       "</style>\n",
       "<table border=\"1\" class=\"dataframe\">\n",
       "  <thead>\n",
       "    <tr style=\"text-align: right;\">\n",
       "      <th></th>\n",
       "      <th>Rank</th>\n",
       "      <th>Title</th>\n",
       "      <th>Genre</th>\n",
       "      <th>Description</th>\n",
       "      <th>Director</th>\n",
       "      <th>Actors</th>\n",
       "      <th>Year</th>\n",
       "      <th>Runtime</th>\n",
       "      <th>Rating</th>\n",
       "      <th>Votes</th>\n",
       "      <th>Revenue</th>\n",
       "      <th>Metascore</th>\n",
       "      <th>Rating Category</th>\n",
       "      <th>Rating_Category</th>\n",
       "    </tr>\n",
       "  </thead>\n",
       "  <tbody>\n",
       "    <tr>\n",
       "      <th>0</th>\n",
       "      <td>1</td>\n",
       "      <td>Guardians of the Galaxy</td>\n",
       "      <td>Action,Adventure,Sci-Fi</td>\n",
       "      <td>A group of intergalactic criminals are forced ...</td>\n",
       "      <td>James Gunn</td>\n",
       "      <td>Chris Pratt, Vin Diesel, Bradley Cooper, Zoe S...</td>\n",
       "      <td>2014</td>\n",
       "      <td>121</td>\n",
       "      <td>8.1</td>\n",
       "      <td>757074</td>\n",
       "      <td>333.13</td>\n",
       "      <td>76.0</td>\n",
       "      <td>Execellent</td>\n",
       "      <td>Execellent</td>\n",
       "    </tr>\n",
       "    <tr>\n",
       "      <th>1</th>\n",
       "      <td>2</td>\n",
       "      <td>Prometheus</td>\n",
       "      <td>Adventure,Mystery,Sci-Fi</td>\n",
       "      <td>Following clues to the origin of mankind, a te...</td>\n",
       "      <td>Ridley Scott</td>\n",
       "      <td>Noomi Rapace, Logan Marshall-Green, Michael Fa...</td>\n",
       "      <td>2012</td>\n",
       "      <td>124</td>\n",
       "      <td>7.0</td>\n",
       "      <td>485820</td>\n",
       "      <td>126.46</td>\n",
       "      <td>65.0</td>\n",
       "      <td>Execellent</td>\n",
       "      <td>Execellent</td>\n",
       "    </tr>\n",
       "    <tr>\n",
       "      <th>2</th>\n",
       "      <td>3</td>\n",
       "      <td>Split</td>\n",
       "      <td>Horror,Thriller</td>\n",
       "      <td>Three girls are kidnapped by a man with a diag...</td>\n",
       "      <td>M. Night Shyamalan</td>\n",
       "      <td>James McAvoy, Anya Taylor-Joy, Haley Lu Richar...</td>\n",
       "      <td>2016</td>\n",
       "      <td>117</td>\n",
       "      <td>7.3</td>\n",
       "      <td>157606</td>\n",
       "      <td>138.12</td>\n",
       "      <td>62.0</td>\n",
       "      <td>Execellent</td>\n",
       "      <td>Execellent</td>\n",
       "    </tr>\n",
       "    <tr>\n",
       "      <th>3</th>\n",
       "      <td>4</td>\n",
       "      <td>Sing</td>\n",
       "      <td>Animation,Comedy,Family</td>\n",
       "      <td>In a city of humanoid animals, a hustling thea...</td>\n",
       "      <td>Christophe Lourdelet</td>\n",
       "      <td>Matthew McConaughey,Reese Witherspoon, Seth Ma...</td>\n",
       "      <td>2016</td>\n",
       "      <td>108</td>\n",
       "      <td>7.2</td>\n",
       "      <td>60545</td>\n",
       "      <td>270.32</td>\n",
       "      <td>59.0</td>\n",
       "      <td>Execellent</td>\n",
       "      <td>Execellent</td>\n",
       "    </tr>\n",
       "    <tr>\n",
       "      <th>4</th>\n",
       "      <td>5</td>\n",
       "      <td>Suicide Squad</td>\n",
       "      <td>Action,Adventure,Fantasy</td>\n",
       "      <td>A secret government agency recruits some of th...</td>\n",
       "      <td>David Ayer</td>\n",
       "      <td>Will Smith, Jared Leto, Margot Robbie, Viola D...</td>\n",
       "      <td>2016</td>\n",
       "      <td>123</td>\n",
       "      <td>6.2</td>\n",
       "      <td>393727</td>\n",
       "      <td>325.02</td>\n",
       "      <td>40.0</td>\n",
       "      <td>Execellent</td>\n",
       "      <td>Execellent</td>\n",
       "    </tr>\n",
       "    <tr>\n",
       "      <th>...</th>\n",
       "      <td>...</td>\n",
       "      <td>...</td>\n",
       "      <td>...</td>\n",
       "      <td>...</td>\n",
       "      <td>...</td>\n",
       "      <td>...</td>\n",
       "      <td>...</td>\n",
       "      <td>...</td>\n",
       "      <td>...</td>\n",
       "      <td>...</td>\n",
       "      <td>...</td>\n",
       "      <td>...</td>\n",
       "      <td>...</td>\n",
       "      <td>...</td>\n",
       "    </tr>\n",
       "    <tr>\n",
       "      <th>995</th>\n",
       "      <td>996</td>\n",
       "      <td>Secret in Their Eyes</td>\n",
       "      <td>Crime,Drama,Mystery</td>\n",
       "      <td>A tight-knit team of rising investigators, alo...</td>\n",
       "      <td>Billy Ray</td>\n",
       "      <td>Chiwetel Ejiofor, Nicole Kidman, Julia Roberts...</td>\n",
       "      <td>2015</td>\n",
       "      <td>111</td>\n",
       "      <td>6.2</td>\n",
       "      <td>27585</td>\n",
       "      <td>58.99</td>\n",
       "      <td>45.0</td>\n",
       "      <td>Execellent</td>\n",
       "      <td>Execellent</td>\n",
       "    </tr>\n",
       "    <tr>\n",
       "      <th>996</th>\n",
       "      <td>997</td>\n",
       "      <td>Hostel: Part II</td>\n",
       "      <td>Horror</td>\n",
       "      <td>Three American college students studying abroa...</td>\n",
       "      <td>Eli Roth</td>\n",
       "      <td>Lauren German, Heather Matarazzo, Bijou Philli...</td>\n",
       "      <td>2007</td>\n",
       "      <td>94</td>\n",
       "      <td>5.5</td>\n",
       "      <td>73152</td>\n",
       "      <td>17.54</td>\n",
       "      <td>46.0</td>\n",
       "      <td>Good</td>\n",
       "      <td>Good</td>\n",
       "    </tr>\n",
       "    <tr>\n",
       "      <th>997</th>\n",
       "      <td>998</td>\n",
       "      <td>Step Up 2: The Streets</td>\n",
       "      <td>Drama,Music,Romance</td>\n",
       "      <td>Romantic sparks occur between two dance studen...</td>\n",
       "      <td>Jon M. Chu</td>\n",
       "      <td>Robert Hoffman, Briana Evigan, Cassie Ventura,...</td>\n",
       "      <td>2008</td>\n",
       "      <td>98</td>\n",
       "      <td>6.2</td>\n",
       "      <td>70699</td>\n",
       "      <td>58.01</td>\n",
       "      <td>50.0</td>\n",
       "      <td>Execellent</td>\n",
       "      <td>Execellent</td>\n",
       "    </tr>\n",
       "    <tr>\n",
       "      <th>998</th>\n",
       "      <td>999</td>\n",
       "      <td>Search Party</td>\n",
       "      <td>Adventure,Comedy</td>\n",
       "      <td>A pair of friends embark on a mission to reuni...</td>\n",
       "      <td>Scot Armstrong</td>\n",
       "      <td>Adam Pally, T.J. Miller, Thomas Middleditch,Sh...</td>\n",
       "      <td>2014</td>\n",
       "      <td>93</td>\n",
       "      <td>5.6</td>\n",
       "      <td>4881</td>\n",
       "      <td>58.99</td>\n",
       "      <td>22.0</td>\n",
       "      <td>Good</td>\n",
       "      <td>Good</td>\n",
       "    </tr>\n",
       "    <tr>\n",
       "      <th>999</th>\n",
       "      <td>1000</td>\n",
       "      <td>Nine Lives</td>\n",
       "      <td>Comedy,Family,Fantasy</td>\n",
       "      <td>A stuffy businessman finds himself trapped ins...</td>\n",
       "      <td>Barry Sonnenfeld</td>\n",
       "      <td>Kevin Spacey, Jennifer Garner, Robbie Amell,Ch...</td>\n",
       "      <td>2016</td>\n",
       "      <td>87</td>\n",
       "      <td>5.3</td>\n",
       "      <td>12435</td>\n",
       "      <td>19.64</td>\n",
       "      <td>11.0</td>\n",
       "      <td>Good</td>\n",
       "      <td>Good</td>\n",
       "    </tr>\n",
       "  </tbody>\n",
       "</table>\n",
       "<p>1000 rows × 14 columns</p>\n",
       "</div>"
      ],
      "text/plain": [
       "     Rank                    Title                     Genre  \\\n",
       "0       1  Guardians of the Galaxy   Action,Adventure,Sci-Fi   \n",
       "1       2               Prometheus  Adventure,Mystery,Sci-Fi   \n",
       "2       3                    Split           Horror,Thriller   \n",
       "3       4                     Sing   Animation,Comedy,Family   \n",
       "4       5            Suicide Squad  Action,Adventure,Fantasy   \n",
       "..    ...                      ...                       ...   \n",
       "995   996     Secret in Their Eyes       Crime,Drama,Mystery   \n",
       "996   997          Hostel: Part II                    Horror   \n",
       "997   998   Step Up 2: The Streets       Drama,Music,Romance   \n",
       "998   999             Search Party          Adventure,Comedy   \n",
       "999  1000               Nine Lives     Comedy,Family,Fantasy   \n",
       "\n",
       "                                           Description              Director  \\\n",
       "0    A group of intergalactic criminals are forced ...            James Gunn   \n",
       "1    Following clues to the origin of mankind, a te...          Ridley Scott   \n",
       "2    Three girls are kidnapped by a man with a diag...    M. Night Shyamalan   \n",
       "3    In a city of humanoid animals, a hustling thea...  Christophe Lourdelet   \n",
       "4    A secret government agency recruits some of th...            David Ayer   \n",
       "..                                                 ...                   ...   \n",
       "995  A tight-knit team of rising investigators, alo...             Billy Ray   \n",
       "996  Three American college students studying abroa...              Eli Roth   \n",
       "997  Romantic sparks occur between two dance studen...            Jon M. Chu   \n",
       "998  A pair of friends embark on a mission to reuni...        Scot Armstrong   \n",
       "999  A stuffy businessman finds himself trapped ins...      Barry Sonnenfeld   \n",
       "\n",
       "                                                Actors  Year  Runtime  Rating  \\\n",
       "0    Chris Pratt, Vin Diesel, Bradley Cooper, Zoe S...  2014      121     8.1   \n",
       "1    Noomi Rapace, Logan Marshall-Green, Michael Fa...  2012      124     7.0   \n",
       "2    James McAvoy, Anya Taylor-Joy, Haley Lu Richar...  2016      117     7.3   \n",
       "3    Matthew McConaughey,Reese Witherspoon, Seth Ma...  2016      108     7.2   \n",
       "4    Will Smith, Jared Leto, Margot Robbie, Viola D...  2016      123     6.2   \n",
       "..                                                 ...   ...      ...     ...   \n",
       "995  Chiwetel Ejiofor, Nicole Kidman, Julia Roberts...  2015      111     6.2   \n",
       "996  Lauren German, Heather Matarazzo, Bijou Philli...  2007       94     5.5   \n",
       "997  Robert Hoffman, Briana Evigan, Cassie Ventura,...  2008       98     6.2   \n",
       "998  Adam Pally, T.J. Miller, Thomas Middleditch,Sh...  2014       93     5.6   \n",
       "999  Kevin Spacey, Jennifer Garner, Robbie Amell,Ch...  2016       87     5.3   \n",
       "\n",
       "      Votes  Revenue  Metascore Rating Category Rating_Category  \n",
       "0    757074   333.13       76.0      Execellent      Execellent  \n",
       "1    485820   126.46       65.0      Execellent      Execellent  \n",
       "2    157606   138.12       62.0      Execellent      Execellent  \n",
       "3     60545   270.32       59.0      Execellent      Execellent  \n",
       "4    393727   325.02       40.0      Execellent      Execellent  \n",
       "..      ...      ...        ...             ...             ...  \n",
       "995   27585    58.99       45.0      Execellent      Execellent  \n",
       "996   73152    17.54       46.0            Good            Good  \n",
       "997   70699    58.01       50.0      Execellent      Execellent  \n",
       "998    4881    58.99       22.0            Good            Good  \n",
       "999   12435    19.64       11.0            Good            Good  \n",
       "\n",
       "[1000 rows x 14 columns]"
      ]
     },
     "execution_count": 100,
     "metadata": {},
     "output_type": "execute_result"
    }
   ],
   "source": [
    "df"
   ]
  },
  {
   "cell_type": "code",
   "execution_count": 101,
   "id": "14be5817",
   "metadata": {},
   "outputs": [
    {
     "data": {
      "text/plain": [
       "array(['Execellent', 'Good', 'poor'], dtype=object)"
      ]
     },
     "execution_count": 101,
     "metadata": {},
     "output_type": "execute_result"
    }
   ],
   "source": [
    "df[\"Rating_Category\"].unique()"
   ]
  },
  {
   "cell_type": "code",
   "execution_count": 105,
   "id": "6ccc2b87",
   "metadata": {},
   "outputs": [],
   "source": [
    "avg_rev_by_category = df.groupby([\"Rating_Category\"]).aggregate(avg_rev = (\"Revenue\", \"mean\")).reset_index()"
   ]
  },
  {
   "cell_type": "code",
   "execution_count": 107,
   "id": "44eefc84",
   "metadata": {},
   "outputs": [
    {
     "data": {
      "text/html": [
       "<div>\n",
       "<style scoped>\n",
       "    .dataframe tbody tr th:only-of-type {\n",
       "        vertical-align: middle;\n",
       "    }\n",
       "\n",
       "    .dataframe tbody tr th {\n",
       "        vertical-align: top;\n",
       "    }\n",
       "\n",
       "    .dataframe thead th {\n",
       "        text-align: right;\n",
       "    }\n",
       "</style>\n",
       "<table border=\"1\" class=\"dataframe\">\n",
       "  <thead>\n",
       "    <tr style=\"text-align: right;\">\n",
       "      <th></th>\n",
       "      <th>Rating_Category</th>\n",
       "      <th>avg_rev</th>\n",
       "    </tr>\n",
       "  </thead>\n",
       "  <tbody>\n",
       "    <tr>\n",
       "      <th>0</th>\n",
       "      <td>Execellent</td>\n",
       "      <td>85.978203</td>\n",
       "    </tr>\n",
       "    <tr>\n",
       "      <th>1</th>\n",
       "      <td>Good</td>\n",
       "      <td>57.407681</td>\n",
       "    </tr>\n",
       "    <tr>\n",
       "      <th>2</th>\n",
       "      <td>poor</td>\n",
       "      <td>27.503333</td>\n",
       "    </tr>\n",
       "  </tbody>\n",
       "</table>\n",
       "</div>"
      ],
      "text/plain": [
       "  Rating_Category    avg_rev\n",
       "0      Execellent  85.978203\n",
       "1            Good  57.407681\n",
       "2            poor  27.503333"
      ]
     },
     "execution_count": 107,
     "metadata": {},
     "output_type": "execute_result"
    }
   ],
   "source": [
    "avg_rev_by_category"
   ]
  },
  {
   "cell_type": "code",
   "execution_count": 110,
   "id": "eb9ed8cf",
   "metadata": {},
   "outputs": [
    {
     "data": {
      "image/png": "[encoded data removed]",
      "text/plain": [
       "<Figure size 1500x500 with 1 Axes>"
      ]
     },
     "metadata": {},
     "output_type": "display_data"
    }
   ],
   "source": [
    "# resize to the image\n",
    "plt.figure(figsize = (15,5))\n",
    "\n",
    "plt.pie(avg_rev_by_category.avg_rev, labels=avg_rev_by_category[\"Rating_Category\"])\n",
    "plt.title(\"Average Votes by Year\")\n",
    "\n",
    "plt.show()"
   ]
  },
  {
   "cell_type": "code",
   "execution_count": null,
   "id": "21677255",
   "metadata": {},
   "outputs": [],
   "source": []
  }
 ],
 "metadata": {
  "kernelspec": {
   "display_name": "Python 3 (ipykernel)",
   "language": "python",
   "name": "python3"
  },
  "language_info": {
   "codemirror_mode": {
    "name": "ipython",
    "version": 3
   },
   "file_extension": ".py",
   "mimetype": "text/x-python",
   "name": "python",
   "nbconvert_exporter": "python",
   "pygments_lexer": "ipython3",
   "version": "3.10.9"
  }
 },
 "nbformat": 4,
 "nbformat_minor": 5
}
